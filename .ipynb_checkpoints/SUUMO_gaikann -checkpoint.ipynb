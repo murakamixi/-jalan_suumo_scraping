{
 "cells": [
  {
   "cell_type": "code",
   "execution_count": 34,
   "id": "242ccd8c-6f3f-4e9c-99d7-7add07ba344b",
   "metadata": {},
   "outputs": [],
   "source": [
    "from selenium import webdriver\n",
    "from webdriver_manager.chrome import ChromeDriverManager\n",
    "import requests\n",
    "from bs4 import BeautifulSoup\n",
    "\n",
    "from PIL import Image\n",
    "import io"
   ]
  },
  {
   "cell_type": "code",
   "execution_count": 35,
   "id": "f350de95-5977-44a5-98e0-6fa0797f132b",
   "metadata": {},
   "outputs": [
    {
     "name": "stderr",
     "output_type": "stream",
     "text": [
      "\n",
      "\n",
      "====== WebDriver manager ======\n",
      "Current google-chrome version is 91.0.4472\n",
      "Get LATEST chromedriver version for 91.0.4472 google-chrome\n",
      "Trying to download new driver from https://chromedriver.storage.googleapis.com/91.0.4472.101/chromedriver_linux64.zip\n",
      "Driver has been saved in cache [/home/murakami/.wdm/drivers/chromedriver/linux64/91.0.4472.101]\n"
     ]
    }
   ],
   "source": [
    "browser = webdriver.Chrome(ChromeDriverManager().install())"
   ]
  },
  {
   "cell_type": "code",
   "execution_count": 37,
   "id": "8f3fafc2-955f-4e9d-9cff-bb6eede764fc",
   "metadata": {},
   "outputs": [],
   "source": [
    "url = 'https://suumo.jp/jj/bukken/ichiran/JJ010FJ001/?ar=020&bs=021&ta=06&jspIdFlg=patternShikugun&kb=1&kt=9999999&tb=0&tt=9999999&hb=0&ht=9999999&ekTjCd=&ekTjNm=&tj=0&cnb=0&cn=9999999'\n",
    "browser.get(url)\n",
    "\n",
    "count = 0"
   ]
  },
  {
   "cell_type": "code",
   "execution_count": 39,
   "id": "6a6bfec2-cf4c-4fee-b872-8fe2016f74bf",
   "metadata": {},
   "outputs": [],
   "source": [
    "house_data_list = []"
   ]
  },
  {
   "cell_type": "code",
   "execution_count": 112,
   "id": "ef640d69-c69d-470f-94ef-819f16fd32f9",
   "metadata": {},
   "outputs": [],
   "source": [
    "url = browser.current_url\n",
    "res = requests.get(url)\n",
    "soup = BeautifulSoup(res.content, 'html.parser')\n",
    "a_elems = soup.find_all('div', attrs={'class' : 'property_unit-header'})"
   ]
  },
  {
   "cell_type": "markdown",
   "id": "1fadee8f-ab37-4b33-9937-2bfc13318d40",
   "metadata": {},
   "source": [
    "**各ページのURLを取得する関数**\n",
    "1. SUUMOの物件情報(indexページ)は、基本的に内部リンク（'https:~がない\"）形式でHTMLが作成されているため、内部リンクのみ全体のページから取得する\n",
    "2. 取得したURLをリスト形式にまとめる\n",
    "3. URLのリストを返す関数を作成する"
   ]
  },
  {
   "cell_type": "code",
   "execution_count": 113,
   "id": "5ff9fea5-d70c-4449-bfb3-df50ca15dea3",
   "metadata": {},
   "outputs": [],
   "source": [
    "def get_urls(soup) -> urls:list:\n",
    "    \"\"\"\n",
    "    一覧のページからURL個別ページのURLを取得する関数\n",
    "    \"\"\"\n",
    "    h2_elems = soup.find_all('h2', attrs={'class' : 'property_unit-title'})\n",
    "    \n",
    "    urls = []\n",
    "    \n",
    "    for h2_elem in h2_elems:\n",
    "        a_elem = h2_elem.find('a')\n",
    "        url = a_elem.attrs['href']\n",
    "        \n",
    "        urls.append(url)\n",
    "        \n",
    "    return urls"
   ]
  },
  {
   "cell_type": "markdown",
   "id": "7728b340-fda7-4b42-a03a-17d038b3cbd1",
   "metadata": {},
   "source": [
    "**各ページの物件情報を収集する関数**\n",
    "- 入力は各ページの内部リンクのURL（シングル）\n",
    "- 出力は各ページのsoup"
   ]
  },
  {
   "cell_type": "code",
   "execution_count": 264,
   "id": "999beadb-feef-4988-abf2-8426961783a2",
   "metadata": {},
   "outputs": [],
   "source": [
    "def get_page_soup(internal_url:str):\n",
    "    \"\"\"\n",
    "    各物件へのリンクを作成して、アクセスして、各ページのsoupを出力する\n",
    "    \"\"\"\n",
    "    # ページ内リンクをドメインと結びつけて直にアクセスできるリンクに変換している\n",
    "    page_url = 'https://suumo.jp' + internal_url\n",
    "    page_res = requests.get(page_url)\n",
    "    page_soup = BeautifulSoup(page_res.content, 'html.parser')\n",
    "    \n",
    "    return page_soup"
   ]
  },
  {
   "cell_type": "markdown",
   "id": "9e4c2e37-8f2e-4d79-8a20-9b7723d0dc27",
   "metadata": {},
   "source": [
    "**各ページの物件情報を収集する関数**\n",
    "- 入力は各ページのsoup\n",
    "- 出力は各ページの物件情報が格納された辞書"
   ]
  },
  {
   "cell_type": "code",
   "execution_count": 265,
   "id": "06875e04-7561-4e2d-9edd-7e3557b20298",
   "metadata": {},
   "outputs": [],
   "source": [
    "def get_house_details(page_soup) -> dict:\n",
    "    \"\"\"[summary]　\n",
    "    　その後に各物件のページから「物件情報」にアクセスして、「物件情報」のテーブルまるごと取得する。\n",
    "    Args\n",
    "        internal_url[str]:SUUMOの各物件の内部リンク\n",
    "    \"\"\"\n",
    "    #物件詳細のページへのリンクの取得\n",
    "    house_details_a_elem = page_soup.find('a', attrs={'class' : 'tabOutline2'})\n",
    "    \n",
    "    if house_details_a_elem is None:\n",
    "        house_details_a_elem = page_soup.find('a', attrs={'class' : 'tabOutline'})\n",
    "        print(house_details_a_elem)\n",
    "        \n",
    "    house_details_url = house_details_a_elem.attrs['href']\n",
    "    \n",
    "    #物件詳細のページへのアクセス    \n",
    "    house_details_res = requests.get(house_details_url)\n",
    "    house_details_soup = BeautifulSoup(house_details_res.content, 'html.parser')\n",
    "    \n",
    "    # テーブルの取得\n",
    "    house_details_info = house_details_soup.find('table', {'class': 'pCell10'})\n",
    "\n",
    "    return house_details_info"
   ]
  },
  {
   "cell_type": "markdown",
   "id": "df5ded3a-5701-41cd-97f9-681b6509bfd3",
   "metadata": {},
   "source": [
    "**各ページの物件情報を収集する関数**\n",
    "- 入力はtable要素\n",
    "- 出力はth要素がKey、td要素がValueになった辞書"
   ]
  },
  {
   "cell_type": "code",
   "execution_count": 374,
   "id": "a9600c79-9147-41bb-83b4-cecbc21ceb4f",
   "metadata": {},
   "outputs": [],
   "source": [
    "def extract_table_data(table) -> dict:\n",
    "    \"\"\"\n",
    "    　tableのHTMLからthとtd内の情報を取得する　\n",
    "    \"\"\"\n",
    "    house_details_dict = {}\n",
    "\n",
    "    for row in table.find_all('tr'):\n",
    "        data_head = row.find_all('th')\n",
    "        data_value = row.find_all('td')\n",
    "\n",
    "        data_head_01 = data_head[0].text.replace('\\n', '').replace('ヒント', '')\n",
    "        data_value_01 = data_value[0].text.replace('\\n', '').replace('\\r', '').replace('\\t', '')\n",
    "\n",
    "        try:\n",
    "            if data_head[1] is not None:\n",
    "                data_head_02 = data_head[1].text.replace('\\n', '').replace('ヒント', '')\n",
    "                data_value_02 = data_value[1].text.replace('\\n', '').replace('\\r', '').replace('\\t', '').replace('\\u3000', '').replace('\\xa0', '').replace('[乗り換え案内]', '')\n",
    "\n",
    "                #print(data_head_01, data_value_01, data_head_02, data_value_02)\n",
    "\n",
    "                house_details_dict[data_head_01] = data_value_01\n",
    "                house_details_dict[data_head_02] = data_value_02\n",
    "        except IndexError:\n",
    "            house_details_dict[data_head_01] = data_value_01\n",
    "            \n",
    "    return house_details_dict"
   ]
  },
  {
   "cell_type": "markdown",
   "id": "31b6a2b4-a48c-4c7a-bab4-a4894afe68c4",
   "metadata": {},
   "source": [
    "**各物件のタイトルとコメントを取得する関数**"
   ]
  },
  {
   "cell_type": "code",
   "execution_count": 349,
   "id": "58d4bff5-c432-4933-b02a-a4dd0e0a2414",
   "metadata": {},
   "outputs": [],
   "source": [
    "def get_title_and_comment(page_soup):\n",
    "    \"\"\"\n",
    "    サイト上部にあるタイトルとコメントを取得する関数\n",
    "    \"\"\"\n",
    "    try:\n",
    "        house_title = page_soup.find('h2', attrs = {'class' : 'fs16'})\n",
    "        house_comment = page_soup.find('p', attrs = {'class' : 'fs14'})\n",
    "        house_dict = {'title':house_title.text, 'comment':house_comment.text}\n",
    "    except:\n",
    "        house_dict = {'title':'', 'comment':''}\n",
    "    return house_dict"
   ]
  },
  {
   "cell_type": "code",
   "execution_count": 342,
   "id": "4696c741-b18c-449f-8802-536a86992994",
   "metadata": {},
   "outputs": [
    {
     "name": "stdout",
     "output_type": "stream",
     "text": [
      "販売スケジュール - イベント情報 -\n",
      "所在地 山形県東村山郡中山町大字長崎 交通 ＪＲ左沢線「羽前長崎」歩22分\n",
      "販売戸数 1戸 総戸数 -\n",
      "価格 1098万円[ □支払シミュレーション ] 最多価格帯 -\n",
      "私道負担・道路 無、北6ｍ幅、西6ｍ幅 諸費用 -\n",
      "間取り 4LDK 建物面積 84.84m2（25.66坪）（登記）\n",
      "土地面積 164.02m2（49.61坪）（登記） 建ぺい率・容積率 60％・200％\n",
      "完成時期(築年月) 1985年6月 入居時期 相談\n",
      "土地の権利形態 所有権 構造・工法 木造2階建\n",
      "施工 - リフォーム 2020年2月完了水回り設備交換：キッチン・浴室・トイレ※年月は一番古いリフォーム箇所を表します\n",
      "用途地域 １種住居 地目 -\n",
      "{'title': 'リニューアル工事しました!!', 'comment': '・駐車場拡張・ユニットバス交換・換気扇取替・トイレ交換・CF張替え・かぎ交換・白あり点検・キッチン交換・洗面化粧台交換・クロス張替え・床一部張替え・建具調整・照明器具交換・畳表替え・障子、ふすま張替え・ハウスクリーニング…他'}\n"
     ]
    }
   ],
   "source": [
    "page_soup = get_page_soup(urls[1]) \n",
    "table = get_house_details(page_soup)\n",
    "house_info_dict = extract_table_data(table)\n",
    "house_text_dict = get_title_and_comment(page_soup)\n",
    "\n",
    "\n",
    "# house_comment = page_soup.find('p', attrs = {'class' : 'fs14'})\n",
    "# house_title = page_soup.find('h2', attrs = {'class' : 'fs16'})\n",
    "# print(house_comment.text, '\\n', house_title.text)"
   ]
  },
  {
   "cell_type": "code",
   "execution_count": 375,
   "id": "cb9272b9-29ff-4540-9b08-922ae1888a81",
   "metadata": {},
   "outputs": [],
   "source": [
    "def get_house_img(page_soup, house_id):\n",
    "    \"\"\"\n",
    "    各ページの写真を取得して、写真をHouseId_IMGIDの形式で保存する。\n",
    "    \"\"\"\n",
    "    imgs = page_soup.find_all('img')\n",
    "    img_list = list()\n",
    "    img_id = 0\n",
    "    # 以下で始まるのはIMGタグだがアクセスできないため排除する\n",
    "    un_img_signal = 'img01.suumo.com'\n",
    "    \n",
    "    for img in imgs:\n",
    "        try:\n",
    "            img_url = img['rel']\n",
    "            img_tag = img['alt']\n",
    "        except KeyError:\n",
    "            img_url = un_img_signal\n",
    "            img_tag = \"\"\n",
    "\n",
    "        if not img_url in un_img_signal:\n",
    "            img_name = str(house_id) + '_' + str(img_id)\n",
    "            img_id += 1\n",
    "            img = Image.open(io.BytesIO(requests.get(img_url).content))\n",
    "            img.save(f'imgs/{img_name}.jpg')\n",
    "\n",
    "\n",
    "            img_list.append({'house_id':house_id, 'img_id':img_id, 'img_tag':img_tag, 'img_name':img_name})\n",
    "    \n",
    "    return img_list"
   ]
  },
  {
   "cell_type": "code",
   "execution_count": null,
   "id": "90501dcc-80a1-4fb5-8a40-f2105517f149",
   "metadata": {},
   "outputs": [],
   "source": []
  },
  {
   "cell_type": "code",
   "execution_count": null,
   "id": "e911a1cc-51d2-4ed4-95a9-d07ef5104cc6",
   "metadata": {},
   "outputs": [],
   "source": []
  },
  {
   "cell_type": "code",
   "execution_count": null,
   "id": "37b4e742-c0b2-4aa3-95cd-1bb2c785b861",
   "metadata": {},
   "outputs": [],
   "source": []
  },
  {
   "cell_type": "markdown",
   "id": "7460b158-5371-4489-afed-f80f945b38c5",
   "metadata": {},
   "source": [
    "**Index1ページ分のURL**\n",
    "\n",
    "- ここのループでは、Index1ページ分のURLをすべて取ってきている"
   ]
  },
  {
   "cell_type": "code",
   "execution_count": null,
   "id": "73335b03-284f-47b4-8e33-441244de224d",
   "metadata": {},
   "outputs": [
    {
     "name": "stdout",
     "output_type": "stream",
     "text": [
      "<a class=\"bt btOl tabOutline\" href=\"https://suumo.jp/chukoikkodate/yamagata/sc_yonezawa/nc_96375651/bukkengaiyo/?fmlg=t001\">物件概要</a>\n",
      "<a class=\"bt btOl tabOutline\" href=\"https://suumo.jp/chukoikkodate/yamagata/sc_tsuruoka/nc_95054357/bukkengaiyo/?fmlg=t001\">物件概要</a>\n",
      "<a class=\"bt btOl tabOutline\" href=\"https://suumo.jp/chukoikkodate/yamagata/sc_yonezawa/nc_96852684/bukkengaiyo/?fmlg=t001\">物件概要</a>\n",
      "<a class=\"bt btOl tabOutline\" href=\"https://suumo.jp/chukoikkodate/yamagata/sc_sakata/nc_95856457/bukkengaiyo/?fmlg=t001\">物件概要</a>\n",
      "<a class=\"bt btOl tabOutline\" href=\"https://suumo.jp/chukoikkodate/yamagata/sc_yonezawa/nc_95750706/bukkengaiyo/?fmlg=t001\">物件概要</a>\n",
      "<a class=\"bt btOl tabOutline\" href=\"https://suumo.jp/chukoikkodate/yamagata/sc_obanazawa/nc_96851112/bukkengaiyo/?fmlg=t001\">物件概要</a>\n",
      "<a class=\"bt btOl tabOutline\" href=\"https://suumo.jp/chukoikkodate/yamagata/sc_tsuruoka/nc_95793061/bukkengaiyo/?fmlg=t001\">物件概要</a>\n"
     ]
    }
   ],
   "source": [
    "house_info = []\n",
    "house_id = 0\n",
    "\n",
    "for url in urls:\n",
    "    #print(url)\n",
    "    page_soup = get_page_soup(url)\n",
    "    table = get_house_details(page_soup)\n",
    "    house_info_dict = extract_table_data(table)\n",
    "    house_text_dict = get_title_and_comment(page_soup)\n",
    "    house_img_list = get_house_img(page_soup, house_id)\n",
    "    \n",
    "    house_dict = {'House_ID': house_id, 'text':house_text_dict, 'info':house_info_dict, 'imgs':house_img_list}\n",
    "    house_info.append(house_dict)\n",
    "    \n"
   ]
  },
  {
   "cell_type": "code",
   "execution_count": null,
   "id": "53ba66e7-fd2a-478e-baf6-1c51bbae488a",
   "metadata": {},
   "outputs": [],
   "source": [
    "house_info"
   ]
  },
  {
   "cell_type": "code",
   "execution_count": null,
   "id": "596fa327-db0d-486c-aaed-92e8394df935",
   "metadata": {},
   "outputs": [],
   "source": []
  },
  {
   "cell_type": "code",
   "execution_count": null,
   "id": "1b758ce4-da47-4223-848a-b98a7cd5fcb6",
   "metadata": {},
   "outputs": [],
   "source": []
  },
  {
   "cell_type": "code",
   "execution_count": null,
   "id": "eda0742c-1631-4060-9ff6-dccd24fa2505",
   "metadata": {},
   "outputs": [],
   "source": []
  }
 ],
 "metadata": {
  "kernelspec": {
   "display_name": "Python 3",
   "language": "python",
   "name": "python3"
  },
  "language_info": {
   "codemirror_mode": {
    "name": "ipython",
    "version": 3
   },
   "file_extension": ".py",
   "mimetype": "text/x-python",
   "name": "python",
   "nbconvert_exporter": "python",
   "pygments_lexer": "ipython3",
   "version": "3.6.9"
  }
 },
 "nbformat": 4,
 "nbformat_minor": 5
}
