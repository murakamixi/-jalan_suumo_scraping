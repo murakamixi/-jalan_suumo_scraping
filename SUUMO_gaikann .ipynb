{
 "cells": [
  {
   "cell_type": "code",
   "execution_count": 12,
   "id": "242ccd8c-6f3f-4e9c-99d7-7add07ba344b",
   "metadata": {},
   "outputs": [],
   "source": [
    "from selenium import webdriver\n",
    "from webdriver_manager.chrome import ChromeDriverManager\n",
    "from selenium.webdriver.chrome.options import Options\n",
    "import requests\n",
    "from bs4 import BeautifulSoup\n",
    "\n",
    "from PIL import Image\n",
    "import io\n",
    "\n",
    "import time"
   ]
  },
  {
   "cell_type": "markdown",
   "id": "654dc593-bc5b-44ba-9fd0-2b422c48b4bc",
   "metadata": {},
   "source": [
    "**ブラウザの起動**"
   ]
  },
  {
   "cell_type": "markdown",
   "id": "1fadee8f-ab37-4b33-9937-2bfc13318d40",
   "metadata": {},
   "source": [
    "**各ページのURLを取得する関数**\n",
    "1. SUUMOの物件情報(indexページ)は、基本的に内部リンク（'https:~がない\"）形式でHTMLが作成されているため、内部リンクのみ全体のページから取得する\n",
    "2. 取得したURLをリスト形式にまとめる\n",
    "3. URLのリストを返す関数を作成する"
   ]
  },
  {
   "cell_type": "code",
   "execution_count": 2,
   "id": "5ff9fea5-d70c-4449-bfb3-df50ca15dea3",
   "metadata": {},
   "outputs": [],
   "source": [
    "def get_urls(soup) -> list:\n",
    "    \"\"\"\n",
    "    一覧のページからURL個別ページのURLを取得する関数\n",
    "    \"\"\"\n",
    "    h2_elems = soup.find_all('h2', attrs={'class' : 'property_unit-title'})\n",
    "    \n",
    "    urls = []\n",
    "    \n",
    "    for h2_elem in h2_elems:\n",
    "        a_elem = h2_elem.find('a')\n",
    "        url = a_elem.attrs['href']\n",
    "        \n",
    "        urls.append(url)\n",
    "        \n",
    "    return urls"
   ]
  },
  {
   "cell_type": "markdown",
   "id": "7728b340-fda7-4b42-a03a-17d038b3cbd1",
   "metadata": {},
   "source": [
    "**各ページの物件情報を収集する関数**\n",
    "- 入力は各ページの内部リンクのURL（シングル）\n",
    "- 出力は各ページのsoup"
   ]
  },
  {
   "cell_type": "code",
   "execution_count": 3,
   "id": "999beadb-feef-4988-abf2-8426961783a2",
   "metadata": {},
   "outputs": [],
   "source": [
    "def get_page_soup(internal_url:str):\n",
    "    \"\"\"\n",
    "    各物件へのリンクを作成して、アクセスして、各ページのsoupを出力する\n",
    "    \"\"\"\n",
    "    # ページ内リンクをドメインと結びつけて直にアクセスできるリンクに変換している\n",
    "    page_url = 'https://suumo.jp' + internal_url\n",
    "    page_res = requests.get(page_url)\n",
    "    page_soup = BeautifulSoup(page_res.content, 'html.parser')\n",
    "    \n",
    "    return page_soup"
   ]
  },
  {
   "cell_type": "markdown",
   "id": "9e4c2e37-8f2e-4d79-8a20-9b7723d0dc27",
   "metadata": {},
   "source": [
    "**各ページの物件情報を収集する関数**\n",
    "- 入力は各ページのsoup\n",
    "- 出力は各ページの物件情報が格納された辞書"
   ]
  },
  {
   "cell_type": "code",
   "execution_count": 4,
   "id": "06875e04-7561-4e2d-9edd-7e3557b20298",
   "metadata": {},
   "outputs": [],
   "source": [
    "def get_house_details(page_soup) -> dict:\n",
    "    \"\"\"[summary]　\n",
    "    　その後に各物件のページから「物件情報」にアクセスして、「物件情報」のテーブルまるごと取得する。\n",
    "    Args\n",
    "        internal_url[str]:SUUMOの各物件の内部リンク\n",
    "    \"\"\"\n",
    "    #物件詳細のページへのリンクの取得\n",
    "    house_details_a_elem = page_soup.find('a', attrs={'class' : 'tabOutline2'})\n",
    "    \n",
    "    if house_details_a_elem is None:\n",
    "        house_details_a_elem = page_soup.find('a', attrs={'class' : 'tabOutline'})\n",
    "        \n",
    "    house_details_url = house_details_a_elem.attrs['href']\n",
    "    \n",
    "    #物件詳細のページへのアクセス    \n",
    "    house_details_res = requests.get(house_details_url)\n",
    "    house_details_soup = BeautifulSoup(house_details_res.content, 'html.parser')\n",
    "    \n",
    "    # テーブルの取得\n",
    "    house_details_info = house_details_soup.find('table', {'class': 'pCell10'})\n",
    "\n",
    "    return house_details_info"
   ]
  },
  {
   "cell_type": "markdown",
   "id": "df5ded3a-5701-41cd-97f9-681b6509bfd3",
   "metadata": {},
   "source": [
    "**各ページの物件情報を収集する関数**\n",
    "- 入力はtable要素\n",
    "- 出力はth要素がKey、td要素がValueになった辞書"
   ]
  },
  {
   "cell_type": "code",
   "execution_count": 5,
   "id": "a9600c79-9147-41bb-83b4-cecbc21ceb4f",
   "metadata": {},
   "outputs": [],
   "source": [
    "def extract_table_data(table) -> dict:\n",
    "    \"\"\"\n",
    "    　tableのHTMLからthとtd内の情報を取得する　\n",
    "    \"\"\"\n",
    "    house_details_dict = {}\n",
    "\n",
    "    for row in table.find_all('tr'):\n",
    "        data_head = row.find_all('th')\n",
    "        data_value = row.find_all('td')\n",
    "\n",
    "        data_head_01 = data_head[0].text.replace('\\n', '').replace('ヒント', '')\n",
    "        data_value_01 = data_value[0].text.replace('\\n', '').replace('\\r', '').replace('\\t', '')\n",
    "\n",
    "        try:\n",
    "            if data_head[1] is not None:\n",
    "                data_head_02 = data_head[1].text.replace('\\n', '').replace('ヒント', '')\n",
    "                data_value_02 = data_value[1].text.replace('\\n', '').replace('\\r', '').replace('\\t', '').replace('\\u3000', '').replace('\\xa0', '').replace('[乗り換え案内]', '')\n",
    "\n",
    "                house_details_dict[data_head_01] = data_value_01\n",
    "                house_details_dict[data_head_02] = data_value_02\n",
    "        except IndexError:\n",
    "            house_details_dict[data_head_01] = data_value_01\n",
    "            \n",
    "    return house_details_dict"
   ]
  },
  {
   "cell_type": "markdown",
   "id": "31b6a2b4-a48c-4c7a-bab4-a4894afe68c4",
   "metadata": {},
   "source": [
    "**各物件のタイトルとコメントを取得する関数**"
   ]
  },
  {
   "cell_type": "code",
   "execution_count": 6,
   "id": "58d4bff5-c432-4933-b02a-a4dd0e0a2414",
   "metadata": {},
   "outputs": [],
   "source": [
    "def get_title_and_comment(page_soup):\n",
    "    \"\"\"\n",
    "    サイト上部にあるタイトルとコメントを取得する関数\n",
    "    \"\"\"\n",
    "    try:\n",
    "        house_title = page_soup.find('h2', attrs = {'class' : 'fs16'})\n",
    "        house_comment = page_soup.find('p', attrs = {'class' : 'fs14'})\n",
    "        house_dict = {'title':house_title.text, 'comment':house_comment.text}\n",
    "    except:\n",
    "        house_dict = {'title':'', 'comment':''}\n",
    "    return house_dict"
   ]
  },
  {
   "cell_type": "markdown",
   "id": "2aa2c073-1d61-4ac5-9710-bb94b99547ce",
   "metadata": {
    "tags": []
   },
   "source": [
    "## テスト用のコードTips"
   ]
  },
  {
   "cell_type": "code",
   "execution_count": 7,
   "id": "4696c741-b18c-449f-8802-536a86992994",
   "metadata": {
    "tags": []
   },
   "outputs": [],
   "source": [
    "# page_soup = get_page_soup(urls[1]) \n",
    "# table = get_house_details(page_soup)\n",
    "# house_info_dict = extract_table_data(table)\n",
    "# house_text_dict = get_title_and_comment(page_soup)\n",
    "# get_house_img(page_soup, 1)\n",
    "# urls"
   ]
  },
  {
   "cell_type": "markdown",
   "id": "0db1692b-9d2c-4100-af0f-efa24be290af",
   "metadata": {
    "tags": []
   },
   "source": [
    "**家の画像の取得**\n",
    "- 画像の名前を一意に決めるためにhouse_idを引数に入れている"
   ]
  },
  {
   "cell_type": "code",
   "execution_count": 8,
   "id": "cb9272b9-29ff-4540-9b08-922ae1888a81",
   "metadata": {},
   "outputs": [],
   "source": [
    "def get_house_img(page_soup, house_id):\n",
    "    \"\"\"\n",
    "    各ページの写真を取得して、写真をHouseId_IMGIDの形式で保存する。\n",
    "    \"\"\"\n",
    "    imgs = page_soup.find_all('img')\n",
    "    img_list = list()\n",
    "    img_id = 0\n",
    "    # 以下で始まるのはIMGタグだがアクセスできないため排除する\n",
    "    un_img_signal = 'img01.suumo.com'\n",
    "    \n",
    "    for img in imgs:\n",
    "        try:\n",
    "            img_url = img['rel']\n",
    "            img_tag = img['alt']\n",
    "        except KeyError:\n",
    "            img_url = un_img_signal\n",
    "            img_tag = \"\"\n",
    "\n",
    "        if not un_img_signal in img_url:\n",
    "            img_name = str(house_id) + '_' + str(img_id)\n",
    "            img_id += 1\n",
    "            img = Image.open(io.BytesIO(requests.get(img_url).content))\n",
    "            img.save(f'imgs/{img_name}.jpg')\n",
    "            img_list.append({'house_id':house_id, 'img_id':img_id, 'img_tag':img_tag, 'img_name':img_name})\n",
    "    \n",
    "    return img_list"
   ]
  },
  {
   "cell_type": "markdown",
   "id": "7460b158-5371-4489-afed-f80f945b38c5",
   "metadata": {},
   "source": [
    "**Index1ページ分のURL**\n",
    "\n",
    "- ここのループでは、Index1ページ分のURLをすべて取ってきている"
   ]
  },
  {
   "cell_type": "code",
   "execution_count": 9,
   "id": "223fc971-7ceb-4c06-9242-52b0bd103372",
   "metadata": {},
   "outputs": [],
   "source": [
    "def get_index_info(urls:list, house_info:list, house_id:int) -> list:\n",
    "    for url in urls:\n",
    "        page_soup = get_page_soup(url)\n",
    "        table = get_house_details(page_soup)\n",
    "        house_info_dict = extract_table_data(table)\n",
    "        house_text_dict = get_title_and_comment(page_soup)\n",
    "        house_img_list = get_house_img(page_soup, house_id)\n",
    "\n",
    "        house_dict = {'House_ID': house_id, 'text':house_text_dict, 'info':house_info_dict, 'imgs':house_img_list}\n",
    "        house_info.append(house_dict)\n",
    "        \n",
    "        house_id += 1\n",
    "        \n",
    "        time.sleep(20)\n",
    "        \n",
    "    return house_info, house_id"
   ]
  },
  {
   "cell_type": "code",
   "execution_count": 10,
   "id": "36958a6c-b4cd-4cea-b76d-f58630aa4bea",
   "metadata": {},
   "outputs": [
    {
     "name": "stderr",
     "output_type": "stream",
     "text": [
      "\n",
      "\n",
      "====== WebDriver manager ======\n",
      "Current google-chrome version is 91.0.4472\n",
      "Get LATEST chromedriver version for 91.0.4472 google-chrome\n",
      "Driver [/home/murakami/.wdm/drivers/chromedriver/linux64/91.0.4472.101/chromedriver] found in cache\n"
     ]
    }
   ],
   "source": [
    "options = Options()\n",
    "options.add_argument('--headless')\n",
    "browser = webdriver.Chrome(ChromeDriverManager().install(), options=options)\n",
    "url = 'https://suumo.jp/jj/bukken/ichiran/JJ010FJ001/?ar=020&bs=021&ta=06&jspIdFlg=patternShikugun&kb=1&kt=9999999&tb=0&tt=9999999&hb=0&ht=9999999&ekTjCd=&ekTjNm=&tj=0&cnb=0&cn=9999999'\n",
    "browser.get(url)\n",
    "\n",
    "count = 0\n",
    "\n",
    "url = browser.current_url\n",
    "res = requests.get(url)\n",
    "soup = BeautifulSoup(res.content, 'html.parser')\n",
    "a_elems = soup.find_all('div', attrs={'class' : 'property_unit-header'})"
   ]
  },
  {
   "cell_type": "markdown",
   "id": "84071053-f87f-44dd-89c5-ce9bb07c3c8d",
   "metadata": {},
   "source": [
    "**すべてのページを見れるように次へのボタンを押す**\n",
    "\n",
    "- このままでは、すべてのページを自動的にクロールすることは不可能。そこで、すべてのページをクロールできるようにプログラムで次へのボタンを押すことを試みます。"
   ]
  },
  {
   "cell_type": "code",
   "execution_count": null,
   "id": "cdba9197-b78e-4b3b-a50e-c211fbdf8382",
   "metadata": {},
   "outputs": [
    {
     "name": "stderr",
     "output_type": "stream",
     "text": [
      "\n",
      "\n",
      "====== WebDriver manager ======\n",
      "Current google-chrome version is 91.0.4472\n",
      "Get LATEST chromedriver version for 91.0.4472 google-chrome\n",
      "Driver [/home/murakami/.wdm/drivers/chromedriver/linux64/91.0.4472.101/chromedriver] found in cache\n",
      "\n",
      "\n",
      "====== WebDriver manager ======\n",
      "Current google-chrome version is 91.0.4472\n",
      "Get LATEST chromedriver version for 91.0.4472 google-chrome\n",
      "Driver [/home/murakami/.wdm/drivers/chromedriver/linux64/91.0.4472.101/chromedriver] found in cache\n"
     ]
    },
    {
     "name": "stdout",
     "output_type": "stream",
     "text": [
      "https://suumo.jp/jj/bukken/ichiran/JJ010FJ001/?ar=020&bs=021&ta=06&jspIdFlg=patternShikugun&kb=1&kt=9999999&tb=0&tt=9999999&hb=0&ht=9999999&ekTjCd=&ekTjNm=&tj=0&cnb=0&cn=9999999\n"
     ]
    }
   ],
   "source": [
    "data_list = []\n",
    "#house_info = []\n",
    "house_id = 0\n",
    "\n",
    "count = 0\n",
    "\n",
    "url = 'https://suumo.jp/jj/bukken/ichiran/JJ010FJ001/?ar=020&bs=021&ta=06&jspIdFlg=patternShikugun&kb=1&kt=9999999&tb=0&tt=9999999&hb=0&ht=9999999&ekTjCd=&ekTjNm=&tj=0&cnb=0&cn=9999999'\n",
    "options = Options()\n",
    "options.add_argument('--headless')\n",
    "browser = webdriver.Chrome(ChromeDriverManager().install(), options=options)\n",
    "browser.get(url)\n",
    "\n",
    "while True:\n",
    "    url = browser.current_url\n",
    "    print(url)\n",
    "    #ブラウザの起動\n",
    "    options = Options()\n",
    "    options.add_argument('--headless')\n",
    "    browser = webdriver.Chrome(ChromeDriverManager().install(), options=options)\n",
    "    \n",
    "    browser.get(url)\n",
    "    \n",
    "    try:\n",
    "        res = requests.get(url)\n",
    "        soup = BeautifulSoup(res.content, 'html.parser')\n",
    "        #a_elems = soup.find_all('div', attrs={'class' : 'property_unit-header'})\n",
    "        urls = get_urls(soup)\n",
    "        house_info, house_id = get_index_info(urls, data_list, house_id)\n",
    "        \n",
    "        browser.find_element_by_link_text('次へ').click()\n",
    "        if count % 10 == 0:\n",
    "            print(\"pages:{0}\".format(count))\n",
    "            print('==============================================')\n",
    "            time.sleep(60)\n",
    "        time.sleep(60)\n",
    "        \n",
    "        count += 1\n",
    "            \n",
    "    except:\n",
    "        browser.quit()\n",
    "        break\n",
    "    "
   ]
  },
  {
   "cell_type": "code",
   "execution_count": null,
   "id": "53ba66e7-fd2a-478e-baf6-1c51bbae488a",
   "metadata": {},
   "outputs": [],
   "source": [
    "house_info"
   ]
  },
  {
   "cell_type": "code",
   "execution_count": null,
   "id": "596fa327-db0d-486c-aaed-92e8394df935",
   "metadata": {},
   "outputs": [],
   "source": []
  },
  {
   "cell_type": "code",
   "execution_count": null,
   "id": "1b758ce4-da47-4223-848a-b98a7cd5fcb6",
   "metadata": {},
   "outputs": [],
   "source": []
  },
  {
   "cell_type": "code",
   "execution_count": null,
   "id": "eda0742c-1631-4060-9ff6-dccd24fa2505",
   "metadata": {},
   "outputs": [],
   "source": []
  }
 ],
 "metadata": {
  "kernelspec": {
   "display_name": "Python 3",
   "language": "python",
   "name": "python3"
  },
  "language_info": {
   "codemirror_mode": {
    "name": "ipython",
    "version": 3
   },
   "file_extension": ".py",
   "mimetype": "text/x-python",
   "name": "python",
   "nbconvert_exporter": "python",
   "pygments_lexer": "ipython3",
   "version": "3.6.9"
  }
 },
 "nbformat": 4,
 "nbformat_minor": 5
}
