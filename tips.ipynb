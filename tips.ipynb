{
 "cells": [
  {
   "cell_type": "code",
   "execution_count": 1,
   "metadata": {},
   "outputs": [],
   "source": [
    "from selenium import webdriver\n",
    "from webdriver_manager.chrome import ChromeDriverManager\n",
    "from selenium.webdriver.chrome.options import Options\n",
    "import requests\n",
    "from bs4 import BeautifulSoup\n",
    "\n",
    "from selenium.common.exceptions import NoSuchElementException\n",
    "\n",
    "from PIL import Image\n",
    "import io\n",
    "\n",
    "import time\n",
    "\n",
    "import pandas as pd\n",
    "\n",
    "import utils.functions as F\n",
    "import utils.data as data\n",
    "\n",
    "from absl import app\n",
    "from absl import flags\n",
    "from absl import logging\n",
    "import bs4"
   ]
  },
  {
   "cell_type": "code",
   "execution_count": 2,
   "metadata": {},
   "outputs": [
    {
     "name": "stdout",
     "output_type": "stream",
     "text": [
      "\n"
     ]
    },
    {
     "name": "stderr",
     "output_type": "stream",
     "text": [
      "[WDM] - ====== WebDriver manager ======\n",
      "[WDM] - Current google-chrome version is 102.0.5005\n",
      "[WDM] - Get LATEST chromedriver version for 102.0.5005 google-chrome\n",
      "[WDM] - Driver [/Users/m.kazu/.wdm/drivers/chromedriver/mac64/102.0.5005.61/chromedriver] found in cache\n",
      "Some characters could not be decoded, and were replaced with REPLACEMENT CHARACTER.\n"
     ]
    }
   ],
   "source": [
    "url = 'https://www.jalan.net/kankou/060000/?screenId=OUW2202&influxKbn=0'\n",
    "\n",
    "options = Options()\n",
    "options.add_argument('--headless')\n",
    "browser = webdriver.Chrome(ChromeDriverManager().install(), options=options)\n",
    "browser.get(url)\n",
    "\n",
    "url = browser.current_url\n",
    "res = requests.get(url)\n",
    "soup = BeautifulSoup(res.content, 'html.parser')\n",
    "a_elems = soup.find_all('p', attrs={'class' : 'item-name'})"
   ]
  },
  {
   "cell_type": "code",
   "execution_count": 3,
   "metadata": {},
   "outputs": [
    {
     "name": "stderr",
     "output_type": "stream",
     "text": [
      "Some characters could not be decoded, and were replaced with REPLACEMENT CHARACTER.\n"
     ]
    }
   ],
   "source": [
    "res = requests.get(url)\n",
    "soup = BeautifulSoup(res.content, 'html.parser')"
   ]
  },
  {
   "cell_type": "code",
   "execution_count": 4,
   "metadata": {},
   "outputs": [],
   "source": [
    "def get_urls(soup:bs4.BeautifulSoup, target:str='suumo') -> list:\n",
    "    \n",
    "    print(target)\n",
    "\n",
    "    h2_elems = soup.find_all('p', attrs={'class' : 'item-name'})\n",
    "\n",
    "    urls = []\n",
    "\n",
    "    for h2_elem in h2_elems:\n",
    "        a_elem = h2_elem.find('a')\n",
    "        url = a_elem.attrs['href']\n",
    "\n",
    "        urls.append(url)\n",
    "\n",
    "    return urls"
   ]
  },
  {
   "cell_type": "code",
   "execution_count": 5,
   "metadata": {},
   "outputs": [
    {
     "name": "stdout",
     "output_type": "stream",
     "text": [
      "suumo\n"
     ]
    }
   ],
   "source": [
    "urls = get_urls(soup)"
   ]
  },
  {
   "cell_type": "code",
   "execution_count": 6,
   "metadata": {},
   "outputs": [
    {
     "data": {
      "text/plain": [
       "['//www.jalan.net/kankou/spt_guide000000152086/',\n",
       " '//www.jalan.net/kankou/spt_06203cc3320040667/',\n",
       " '//www.jalan.net/kankou/spt_06424ae2180021220/',\n",
       " '//www.jalan.net/kankou/spt_06424ab2010001853/',\n",
       " '//www.jalan.net/kankou/spt_06212cd2110077654/',\n",
       " '//www.jalan.net/kankou/spt_06201cd2110077451/',\n",
       " '//www.jalan.net/kankou/spt_06204ag2130014968/',\n",
       " '//www.jalan.net/kankou/spt_alikejpB000375810/',\n",
       " '//www.jalan.net/kankou/spt_06201ae3292019427/',\n",
       " '//www.jalan.net/kankou/spt_06204ae2180022287/',\n",
       " '//www.jalan.net/kankou/spt_guide000000186569/',\n",
       " '//www.jalan.net/kankou/spt_06441ab2010001861/',\n",
       " '//www.jalan.net/kankou/spt_06441ag2130009280/',\n",
       " '//www.jalan.net/kankou/spt_06382ag2130011725/',\n",
       " '//www.jalan.net/kankou/spt_guide000000180653/',\n",
       " '//www.jalan.net/kankou/spt_guide000000161658/',\n",
       " '//www.jalan.net/kankou/spt_06323ag2130015562/',\n",
       " '//www.jalan.net/kankou/spt_06210cb3512010894/',\n",
       " '//www.jalan.net/kankou/spt_06207cd2110078131/',\n",
       " '//www.jalan.net/kankou/spt_06202ag2130014416/',\n",
       " '//www.jalan.net/kankou/spt_06201af2170019800/',\n",
       " '//www.jalan.net/kankou/spt_06211ag2130014422/',\n",
       " '//www.jalan.net/kankou/spt_06212aa1032101792/',\n",
       " '//www.jalan.net/kankou/spt_06212ag2130014710/',\n",
       " '//www.jalan.net/kankou/spt_06209ag2130015574/',\n",
       " '//www.jalan.net/kankou/spt_06201ah3330040923/',\n",
       " '//www.jalan.net/kankou/spt_06322ab2010003280/',\n",
       " '//www.jalan.net/kankou/spt_06204ae2180022406/',\n",
       " '//www.jalan.net/kankou/spt_06210cb3512010897/',\n",
       " '//www.jalan.net/kankou/spt_05403ab2010002816/',\n",
       " '/travel-journal/000098611/',\n",
       " '/travel-journal/000048017/',\n",
       " '/travel-journal/000087821/']"
      ]
     },
     "execution_count": 6,
     "metadata": {},
     "output_type": "execute_result"
    }
   ],
   "source": [
    "urls"
   ]
  },
  {
   "cell_type": "code",
   "execution_count": 7,
   "metadata": {},
   "outputs": [],
   "source": [
    "for url in urls:\n",
    "  page_url = \"https:\" + url + 'kuchikomi'\n",
    "  page_res = requests.get(page_url)\n",
    "  page_soup = BeautifulSoup(page_res.content, 'html.parser')\n",
    "  break"
   ]
  },
  {
   "cell_type": "code",
   "execution_count": 8,
   "metadata": {},
   "outputs": [],
   "source": [
    "all_content = page_soup.find_all('div', attrs={'class' : 'item-listContents'})"
   ]
  },
  {
   "cell_type": "code",
   "execution_count": 9,
   "metadata": {},
   "outputs": [
    {
     "name": "stdout",
     "output_type": "stream",
     "text": [
      "写真ない時こっち\n",
      "写真ない時こっち\n",
      "写真ない時こっち\n",
      "写真ない時こっち\n",
      "写真ない時こっち\n",
      "写真ない時こっち\n",
      "写真ある時こっち\n"
     ]
    },
    {
     "name": "stderr",
     "output_type": "stream",
     "text": [
      "Some characters could not be decoded, and were replaced with REPLACEMENT CHARACTER.\n"
     ]
    },
    {
     "name": "stdout",
     "output_type": "stream",
     "text": [
      "写真ない時こっち\n",
      "写真ない時こっち\n",
      "写真ない時こっち\n"
     ]
    }
   ],
   "source": [
    "review_id = 0\n",
    "for content in all_content:\n",
    "  if content.find('picture', attrs={'class' : 'item-mainImg'}):\n",
    "    print('写真ある時こっち')\n",
    "    review_property_dict = {}\n",
    "\n",
    "    div_elem = content.find('p', attrs={'class' : 'item-title'})\n",
    "    a_elem = div_elem.find('a')\n",
    "    review_page_url = 'https:' + a_elem.attrs['href']\n",
    "    review_page_res = requests.get(review_page_url)\n",
    "    review_page_soup = BeautifulSoup(review_page_res.content, 'html.parser')\n",
    "\n",
    "    review_soup = review_page_soup.find('p', attrs={'class' : 'reviewText'})\n",
    "\n",
    "    title = review_page_soup.find('h1', attrs={'class' : 'basicTitle'})\n",
    "    review = review_soup.text.replace('\\n', '')\n",
    "    review_property_dict['title'] = title\n",
    "    review_property_dict['review'] = review\n",
    "\n",
    "    review_properties = review_page_soup.find('ul', attrs={'class' : 'reviewDetail'})\n",
    "    review_properties = review_properties.find_all('li')\n",
    "    review_properties=[review_property.text.strip() for review_property in review_properties]\n",
    "\n",
    "    for review_property in review_properties:\n",
    "      column_name = review_property.split('：')[0]\n",
    "      column_data = review_property.split('：')[1]\n",
    "\n",
    "      review_property_dict[column_name] = column_data\n",
    "\n",
    "    img_urls = []\n",
    "    img_contents_block = review_page_soup.find('ul', attrs={'class' : 'cassetteList-photo'})\n",
    "    img_contents = img_contents_block.find_all('li', attrs={'class' : 'lightbox'})\n",
    "    # print(img_contents)\n",
    "\n",
    "    img_id = 0\n",
    "\n",
    "    img_name_list = list()\n",
    "\n",
    "    for img_content in img_contents:\n",
    "      img_elem = img_content.find('source')\n",
    "      img_url = img_elem.attrs['srcset']\n",
    "      img_url = 'https:' + img_url\n",
    "\n",
    "      img = Image.open(io.BytesIO(requests.get(img_url).content))\n",
    "      img_name=str(review_id) + '_' + str(img_id)\n",
    "      img.save(f'imgs/jalan/{img_name}.jpg')\n",
    "\n",
    "      img_id += 1\n",
    "\n",
    "    reviews_property_dict = {}\n",
    "\n",
    "    reviews_property_dict[review_id] = {\n",
    "                                        \"レビューID\" : review_id,\n",
    "                                        \"レビューURL\" : review_page_url,\n",
    "                                        \"タイトル\" : title,\n",
    "                                        \"レビュー\" : review,\n",
    "                                        \"行った時期\" : review_property_dict['行った時期'],\n",
    "                                        \"混雑具合\" : review_property_dict['混雑具合'],\n",
    "                                        \"滞在時間\" : review_property_dict['滞在時間'],\n",
    "                                        \"投稿日\" : review_property_dict['投稿日'],}\n",
    "    \n",
    "  else:\n",
    "    print('写真ない時こっち')"
   ]
  },
  {
   "cell_type": "code",
   "execution_count": 10,
   "metadata": {},
   "outputs": [],
   "source": [
    "\n",
    "def jalan():\n",
    "    print('jalan')\n",
    "    review_id = 0\n",
    "    pref_sum_count = 0\n",
    "\n",
    "    for url in [data.jalan_urls['Yamagata']]:\n",
    "        prefecture_name = 'Yamagata'\n",
    "        pref_sum_count += 1\n",
    "        url = url\n",
    "        data_list = [] #多分いらない\n",
    "        page_count = 0\n",
    "\n",
    "        logging.info(pref_sum_count, prefecture_name)\n",
    "\n",
    "        options = Options()\n",
    "        options.add_argument('--headless')\n",
    "        browser = webdriver.Chrome(ChromeDriverManager().install(), options=options)\n",
    "        browser.get(url)\n",
    "\n",
    "        # 次へをクリックして、観光地自体のページがなくなるまで繰り返しページを探索する\n",
    "        while True:\n",
    "            url = browser.current_url\n",
    "            logging.info(url)\n",
    "            #ブラウザの起動\n",
    "            options = Options()\n",
    "            options.add_argument('--headless')\n",
    "            browser = webdriver.Chrome(ChromeDriverManager().install(), options=options)\n",
    "\n",
    "            browser.get(url)\n",
    "\n",
    "            try:\n",
    "                res = requests.get(url)\n",
    "                soup = BeautifulSoup(res.content, 'html.parser')\n",
    "                urls = F.get_urls(soup, target='jalan') #1ページに含まれる全観光地のリンク\n",
    "                \n",
    "                for url in urls:\n",
    "                    # 一つの観光地について\n",
    "                    page_url = \"https:\" + url + 'kuchikomi'\n",
    "                    while True:\n",
    "                        page_res = requests.get(page_url)\n",
    "                        page_soup = BeautifulSoup(page_res.content, 'html.parser')\n",
    "                        \n",
    "                        try:\n",
    "                            # 観光地のレビュー、一覧ページ\n",
    "                            all_content = page_soup.find_all('div', attrs={'class' : 'item-listContents'})\n",
    "                            reviews_dict = {}\n",
    "                            reviews_img_dict = {}\n",
    "                            # print('all', all_content)\n",
    "                            for content in all_content:\n",
    "                                print(type(content))\n",
    "                                print(F.is_existing_img(content))\n",
    "                                # print(content)\n",
    "                                if F.is_existing_img(content):\n",
    "                                    print('existing content')\n",
    "                                #     # 写真ある場合\n",
    "                                #     review_page_soup = F.get_review_page_soup(content)\n",
    "                                #     review_property_dict = F.get_jalan_review(review_id, review_page_soup)\n",
    "                                #     img_name_list = F.get_review_img(review_id, review_page_soup)\n",
    "                                # else:\n",
    "                                #     print('None')\n",
    "\n",
    "                                # reviews_dict[review_id] = {\n",
    "                                #                 \"レビューID\" : review_property_dict['review_id'],\n",
    "                                #                 # \"レビューURL\" : review_property_dict['review_page_url'],\n",
    "                                #                 \"タイトル\" : review_property_dict['title'],\n",
    "                                #                 \"レビュー\" : review_property_dict['review'],\n",
    "                                #                 \"行った時期\" : review_property_dict['行った時期'],\n",
    "                                #                 \"混雑具合\" : review_property_dict['混雑具合'],\n",
    "                                #                 \"滞在時間\" : review_property_dict['滞在時間'],\n",
    "                                #                 \"投稿日\" : review_property_dict['投稿日'],\n",
    "                                #                 }\n",
    "                                # reviews_img_dict[review_id] = {\"imgs\" : img_name_list}\n",
    "                                else:\n",
    "                                    print('none photo')\n",
    "\n",
    "                            # attribute_df = pd.DataFrame(reviews_dict).transpose()\n",
    "                            # attribute_df.to_csv('csv/attribute_{filename}_{page_num}.csv'.format(filename = prefecture_name, page_num=page_count))\n",
    "                            # imgs_df = pd.DataFrame(reviews_img_dict)\n",
    "                            # imgs_df.to_csv('csv/imgs_{filename}_{page_num}.csv'.format(filename = prefecture_name, page_num=page_count))\n",
    "\n",
    "                            browser.find_element_by_link_text('次へ').click()\n",
    "                            if page_count % 10 == 0:\n",
    "                                logging.info(\"pages:{0}\".format(page_count))\n",
    "                                logging.info('==============================================')\n",
    "                                time.sleep(60)\n",
    "                            time.sleep(60)\n",
    "\n",
    "                            page_count += 1\n",
    "                        except NoSuchElementException:\n",
    "                            browser.quit()\n",
    "                        break\n",
    "\n",
    "            except NoSuchElementException:\n",
    "                browser.quit()\n",
    "                break\n",
    "\n",
    "        logging.info('browser quit')"
   ]
  },
  {
   "cell_type": "code",
   "execution_count": null,
   "metadata": {},
   "outputs": [],
   "source": [
    "jalan()"
   ]
  },
  {
   "cell_type": "code",
   "execution_count": 21,
   "metadata": {},
   "outputs": [],
   "source": [
    "def jalan():\n",
    "    print('jalan')\n",
    "    pref_sum_count = 0\n",
    "\n",
    "    for url in [data.jalan_urls['Yamagata']]:\n",
    "        prefecture_name = 'Yamagata'\n",
    "        pref_sum_count += 1\n",
    "        landmark_count = 0\n",
    "        url = url\n",
    "        data_list = [] #多分いらない\n",
    "        page_count = 0\n",
    "\n",
    "        logging.info(pref_sum_count, prefecture_name)\n",
    "\n",
    "        options = Options()\n",
    "        options.add_argument('--headless')\n",
    "        browser = webdriver.Chrome(ChromeDriverManager().install(), options=options)\n",
    "        browser.get(url)\n",
    "\n",
    "        # 次へをクリックして、観光地自体のページがなくなるまで繰り返しページを探索する\n",
    "        while True:\n",
    "            url = browser.current_url\n",
    "            logging.info(url)\n",
    "            #ブラウザの起動\n",
    "            # ⓪任意の県だけのページを取得\n",
    "            options = Options()\n",
    "            options.add_argument('--headless')\n",
    "            browser = webdriver.Chrome(ChromeDriverManager().install(), options=options)\n",
    "            browser.get(url)\n",
    "\n",
    "            try:\n",
    "                res = requests.get(url)\n",
    "                soup = BeautifulSoup(res.content, 'html.parser')\n",
    "                urls = F.get_urls(soup, target='jalan') #⓪任意の件に含まれる1ページの全観光地のリンク\n",
    "\n",
    "                for url in urls:\n",
    "                    # ①一つの観光地についての口コミ１ページ\n",
    "                    page_url = \"https:\" + url + 'kuchikomi'\n",
    "                    review_count = 0\n",
    "                    while True:\n",
    "                        options = Options()\n",
    "                        options.add_argument('--headless')\n",
    "                        browser_page = webdriver.Chrome(ChromeDriverManager().install(), options=options)\n",
    "                        browser_page.get(page_url)\n",
    "\n",
    "                        page_res = requests.get(page_url)\n",
    "\n",
    "                        page_current_url = browser_page.current_url\n",
    "\n",
    "                        page_soup = BeautifulSoup(page_res.content, 'html.parser')\n",
    "\n",
    "                        # ①観光地のレビュー、一覧ページ\n",
    "                        all_content = page_soup.find_all('div', attrs={'class' : 'item-listContents'})\n",
    "                        reviews_dict = {}\n",
    "                        reviews_img_dict = {}\n",
    "                        for content in all_content:\n",
    "\n",
    "                            if F.is_existing_img(content):\n",
    "                                # ②\n",
    "                                review_page_soup = F.get_review_page_soup(content)\n",
    "                                review_property_dict = F.get_jalan_review(review_count, content, review_page_soup)\n",
    "                                print('existing content url', review_property_dict['review_page_url'])\n",
    "                                img_name_list = F.get_review_img(landmark_count, review_count, review_page_soup)\n",
    "\n",
    "                                review_count += 1\n",
    "                            page_count += 1\n",
    "\n",
    "                        try:\n",
    "                            browser_page.find_element_by_link_text('次へ').click()\n",
    "                            page_current_url = browser_page.current_url\n",
    "                            page_url = browser_page.current_url\n",
    "                        except NoSuchElementException:\n",
    "                            browser.quit()\n",
    "                            break\n",
    "\n",
    "                    reviews_dict[review_id] = {\n",
    "                                            \"レビューID\" : review_property_dict['review_id'],\n",
    "                                            \"レビューURL\" : review_property_dict['review_page_url'],\n",
    "                                            \"タイトル\" : review_property_dict['title'],\n",
    "                                            \"レビュー\" : review_property_dict['review'],\n",
    "                                            \"行った時期\" : review_property_dict['行った時期'],\n",
    "                                            \"混雑具合\" : review_property_dict['混雑具合'],\n",
    "                                            \"滞在時間\" : review_property_dict['滞在時間'],\n",
    "                                            \"投稿日\" : review_property_dict['投稿日'],\n",
    "                                            }\n",
    "                    reviews_img_dict[review_id] = {\"imgs\" : img_name_list}\n",
    "\n",
    "                    attribute_df = pd.DataFrame(reviews_dict).transpose()\n",
    "                    attribute_df.to_csv('csv/jalan/attribute_{filename}_{landmark_count}.csv'.format(filename = prefecture_name, landmark_count=landmark_count))\n",
    "                    imgs_df = pd.DataFrame(reviews_img_dict)\n",
    "                    imgs_df.to_csv('csv/jalan/imgs_{filename}_{landmark_count}.csv'.format(filename = prefecture_name, landmark_count=landmark_count))\n",
    "\n",
    "                    landmark_count += 1\n",
    "\n",
    "            except NoSuchElementException:\n",
    "                browser.quit()\n",
    "                break\n",
    "\n",
    "        logging.info('browser quit')"
   ]
  },
  {
   "cell_type": "code",
   "execution_count": 23,
   "metadata": {},
   "outputs": [
    {
     "name": "stdout",
     "output_type": "stream",
     "text": [
      "jalan\n",
      "\n"
     ]
    },
    {
     "name": "stderr",
     "output_type": "stream",
     "text": [
      "[WDM] - ====== WebDriver manager ======\n",
      "INFO:WDM:====== WebDriver manager ======\n",
      "[WDM] - Current google-chrome version is 102.0.5005\n",
      "INFO:WDM:Current google-chrome version is 102.0.5005\n",
      "[WDM] - Get LATEST chromedriver version for 102.0.5005 google-chrome\n",
      "INFO:WDM:Get LATEST chromedriver version for 102.0.5005 google-chrome\n",
      "[WDM] - Driver [/Users/m.kazu/.wdm/drivers/chromedriver/mac64/102.0.5005.61/chromedriver] found in cache\n",
      "INFO:WDM:Driver [/Users/m.kazu/.wdm/drivers/chromedriver/mac64/102.0.5005.61/chromedriver] found in cache\n"
     ]
    },
    {
     "name": "stdout",
     "output_type": "stream",
     "text": [
      "\n"
     ]
    },
    {
     "name": "stderr",
     "output_type": "stream",
     "text": [
      "[WDM] - ====== WebDriver manager ======\n",
      "INFO:WDM:====== WebDriver manager ======\n",
      "[WDM] - Current google-chrome version is 102.0.5005\n",
      "INFO:WDM:Current google-chrome version is 102.0.5005\n",
      "[WDM] - Get LATEST chromedriver version for 102.0.5005 google-chrome\n",
      "INFO:WDM:Get LATEST chromedriver version for 102.0.5005 google-chrome\n",
      "[WDM] - Driver [/Users/m.kazu/.wdm/drivers/chromedriver/mac64/102.0.5005.61/chromedriver] found in cache\n",
      "INFO:WDM:Driver [/Users/m.kazu/.wdm/drivers/chromedriver/mac64/102.0.5005.61/chromedriver] found in cache\n",
      "WARNING:bs4.dammit:Some characters could not be decoded, and were replaced with REPLACEMENT CHARACTER.\n"
     ]
    },
    {
     "name": "stdout",
     "output_type": "stream",
     "text": [
      "\n"
     ]
    },
    {
     "name": "stderr",
     "output_type": "stream",
     "text": [
      "[WDM] - ====== WebDriver manager ======\n",
      "INFO:WDM:====== WebDriver manager ======\n",
      "[WDM] - Current google-chrome version is 102.0.5005\n",
      "INFO:WDM:Current google-chrome version is 102.0.5005\n",
      "[WDM] - Get LATEST chromedriver version for 102.0.5005 google-chrome\n",
      "INFO:WDM:Get LATEST chromedriver version for 102.0.5005 google-chrome\n",
      "[WDM] - Driver [/Users/m.kazu/.wdm/drivers/chromedriver/mac64/102.0.5005.61/chromedriver] found in cache\n",
      "INFO:WDM:Driver [/Users/m.kazu/.wdm/drivers/chromedriver/mac64/102.0.5005.61/chromedriver] found in cache\n"
     ]
    },
    {
     "name": "stdout",
     "output_type": "stream",
     "text": [
      "page url :  https://www.jalan.net/kankou/spt_guide000000152086/kuchikomi/\n"
     ]
    },
    {
     "name": "stderr",
     "output_type": "stream",
     "text": [
      "WARNING:bs4.dammit:Some characters could not be decoded, and were replaced with REPLACEMENT CHARACTER.\n"
     ]
    },
    {
     "name": "stdout",
     "output_type": "stream",
     "text": [
      "existing content url https://www.jalan.net/kankou/spt_guide000000152086/kuchikomi/0005333617/\n",
      "aftre current page url :  https://www.jalan.net/kankou/spt_guide000000152086/kuchikomi/page_2/?screenId=OUW2202&reviewRefineCompanion=all&reviewRefineMonth=all&resultSort=pd\n",
      "次へをクリックしました\n",
      "\n"
     ]
    },
    {
     "name": "stderr",
     "output_type": "stream",
     "text": [
      "[WDM] - ====== WebDriver manager ======\n",
      "INFO:WDM:====== WebDriver manager ======\n",
      "[WDM] - Current google-chrome version is 102.0.5005\n",
      "INFO:WDM:Current google-chrome version is 102.0.5005\n",
      "[WDM] - Get LATEST chromedriver version for 102.0.5005 google-chrome\n",
      "INFO:WDM:Get LATEST chromedriver version for 102.0.5005 google-chrome\n",
      "[WDM] - Driver [/Users/m.kazu/.wdm/drivers/chromedriver/mac64/102.0.5005.61/chromedriver] found in cache\n",
      "INFO:WDM:Driver [/Users/m.kazu/.wdm/drivers/chromedriver/mac64/102.0.5005.61/chromedriver] found in cache\n"
     ]
    },
    {
     "name": "stdout",
     "output_type": "stream",
     "text": [
      "page url :  https://www.jalan.net/kankou/spt_guide000000152086/kuchikomi/page_2/?screenId=OUW2202&reviewRefineCompanion=all&reviewRefineMonth=all&resultSort=pd\n",
      "existing content url https://www.jalan.net/kankou/spt_guide000000152086/kuchikomi/0005310886/\n"
     ]
    },
    {
     "name": "stderr",
     "output_type": "stream",
     "text": [
      "WARNING:bs4.dammit:Some characters could not be decoded, and were replaced with REPLACEMENT CHARACTER.\n"
     ]
    },
    {
     "name": "stdout",
     "output_type": "stream",
     "text": [
      "existing content url https://www.jalan.net/kankou/spt_guide000000152086/kuchikomi/0005310515/\n",
      "aftre current page url :  https://www.jalan.net/kankou/spt_guide000000152086/kuchikomi/page_3/?screenId=OUW2202&reviewRefineCompanion=all&reviewRefineMonth=all&resultSort=pd\n",
      "次へをクリックしました\n",
      "\n"
     ]
    },
    {
     "name": "stderr",
     "output_type": "stream",
     "text": [
      "[WDM] - ====== WebDriver manager ======\n",
      "INFO:WDM:====== WebDriver manager ======\n",
      "[WDM] - Current google-chrome version is 102.0.5005\n",
      "INFO:WDM:Current google-chrome version is 102.0.5005\n",
      "[WDM] - Get LATEST chromedriver version for 102.0.5005 google-chrome\n",
      "INFO:WDM:Get LATEST chromedriver version for 102.0.5005 google-chrome\n",
      "[WDM] - Driver [/Users/m.kazu/.wdm/drivers/chromedriver/mac64/102.0.5005.61/chromedriver] found in cache\n",
      "INFO:WDM:Driver [/Users/m.kazu/.wdm/drivers/chromedriver/mac64/102.0.5005.61/chromedriver] found in cache\n"
     ]
    },
    {
     "name": "stdout",
     "output_type": "stream",
     "text": [
      "page url :  https://www.jalan.net/kankou/spt_guide000000152086/kuchikomi/page_3/?screenId=OUW2202&reviewRefineCompanion=all&reviewRefineMonth=all&resultSort=pd\n",
      "aftre current page url :  https://www.jalan.net/kankou/spt_guide000000152086/kuchikomi/page_4/?screenId=OUW2202&reviewRefineCompanion=all&reviewRefineMonth=all&resultSort=pd\n",
      "次へをクリックしました\n",
      "\n"
     ]
    },
    {
     "name": "stderr",
     "output_type": "stream",
     "text": [
      "[WDM] - ====== WebDriver manager ======\n",
      "INFO:WDM:====== WebDriver manager ======\n",
      "[WDM] - Current google-chrome version is 102.0.5005\n",
      "INFO:WDM:Current google-chrome version is 102.0.5005\n",
      "[WDM] - Get LATEST chromedriver version for 102.0.5005 google-chrome\n",
      "INFO:WDM:Get LATEST chromedriver version for 102.0.5005 google-chrome\n",
      "[WDM] - Driver [/Users/m.kazu/.wdm/drivers/chromedriver/mac64/102.0.5005.61/chromedriver] found in cache\n",
      "INFO:WDM:Driver [/Users/m.kazu/.wdm/drivers/chromedriver/mac64/102.0.5005.61/chromedriver] found in cache\n"
     ]
    },
    {
     "name": "stdout",
     "output_type": "stream",
     "text": [
      "page url :  https://www.jalan.net/kankou/spt_guide000000152086/kuchikomi/page_4/?screenId=OUW2202&reviewRefineCompanion=all&reviewRefineMonth=all&resultSort=pd\n"
     ]
    },
    {
     "ename": "AttributeError",
     "evalue": "'NoneType' object has no attribute 'text'",
     "output_type": "error",
     "traceback": [
      "\u001b[0;31m---------------------------------------------------------------------------\u001b[0m",
      "\u001b[0;31mAttributeError\u001b[0m                            Traceback (most recent call last)",
      "\u001b[1;32m/Users/m.kazu/Documents/hara/generate_nlp/jalan_suumo_scraping/tips.ipynb Cell 13'\u001b[0m in \u001b[0;36m<cell line: 1>\u001b[0;34m()\u001b[0m\n\u001b[0;32m----> <a href='vscode-notebook-cell:/Users/m.kazu/Documents/hara/generate_nlp/jalan_suumo_scraping/tips.ipynb#ch0000012?line=0'>1</a>\u001b[0m jalan()\n",
      "\u001b[1;32m/Users/m.kazu/Documents/hara/generate_nlp/jalan_suumo_scraping/tips.ipynb Cell 12'\u001b[0m in \u001b[0;36mjalan\u001b[0;34m()\u001b[0m\n\u001b[1;32m     <a href='vscode-notebook-cell:/Users/m.kazu/Documents/hara/generate_nlp/jalan_suumo_scraping/tips.ipynb#ch0000011?line=59'>60</a>\u001b[0m \u001b[39mif\u001b[39;00m F\u001b[39m.\u001b[39mis_existing_img(content):\n\u001b[1;32m     <a href='vscode-notebook-cell:/Users/m.kazu/Documents/hara/generate_nlp/jalan_suumo_scraping/tips.ipynb#ch0000011?line=60'>61</a>\u001b[0m     \u001b[39m# ②\u001b[39;00m\n\u001b[1;32m     <a href='vscode-notebook-cell:/Users/m.kazu/Documents/hara/generate_nlp/jalan_suumo_scraping/tips.ipynb#ch0000011?line=61'>62</a>\u001b[0m     review_page_soup \u001b[39m=\u001b[39m F\u001b[39m.\u001b[39mget_review_page_soup(content)\n\u001b[0;32m---> <a href='vscode-notebook-cell:/Users/m.kazu/Documents/hara/generate_nlp/jalan_suumo_scraping/tips.ipynb#ch0000011?line=62'>63</a>\u001b[0m     review_property_dict \u001b[39m=\u001b[39m F\u001b[39m.\u001b[39;49mget_jalan_review(review_count, content, review_page_soup)\n\u001b[1;32m     <a href='vscode-notebook-cell:/Users/m.kazu/Documents/hara/generate_nlp/jalan_suumo_scraping/tips.ipynb#ch0000011?line=63'>64</a>\u001b[0m     \u001b[39mprint\u001b[39m(\u001b[39m'\u001b[39m\u001b[39mexisting content url\u001b[39m\u001b[39m'\u001b[39m, review_property_dict[\u001b[39m'\u001b[39m\u001b[39mreview_page_url\u001b[39m\u001b[39m'\u001b[39m])\n\u001b[1;32m     <a href='vscode-notebook-cell:/Users/m.kazu/Documents/hara/generate_nlp/jalan_suumo_scraping/tips.ipynb#ch0000011?line=64'>65</a>\u001b[0m     img_name_list \u001b[39m=\u001b[39m F\u001b[39m.\u001b[39mget_review_img(landmark_count, review_count, review_page_soup)\n",
      "File \u001b[0;32m~/Documents/hara/generate_nlp/jalan_suumo_scraping/utils/functions.py:413\u001b[0m, in \u001b[0;36mget_jalan_review\u001b[0;34m(review_id, content_soup, review_page_soup)\u001b[0m\n\u001b[1;32m    <a href='file:///Users/m.kazu/Documents/hara/generate_nlp/jalan_suumo_scraping/utils/functions.py?line=409'>410</a>\u001b[0m review_soup \u001b[39m=\u001b[39m review_page_soup\u001b[39m.\u001b[39mfind(\u001b[39m'\u001b[39m\u001b[39mp\u001b[39m\u001b[39m'\u001b[39m, attrs\u001b[39m=\u001b[39m{\u001b[39m'\u001b[39m\u001b[39mclass\u001b[39m\u001b[39m'\u001b[39m : \u001b[39m'\u001b[39m\u001b[39mreviewText\u001b[39m\u001b[39m'\u001b[39m})\n\u001b[1;32m    <a href='file:///Users/m.kazu/Documents/hara/generate_nlp/jalan_suumo_scraping/utils/functions.py?line=411'>412</a>\u001b[0m title \u001b[39m=\u001b[39m review_page_soup\u001b[39m.\u001b[39mfind(\u001b[39m'\u001b[39m\u001b[39mh1\u001b[39m\u001b[39m'\u001b[39m, attrs\u001b[39m=\u001b[39m{\u001b[39m'\u001b[39m\u001b[39mclass\u001b[39m\u001b[39m'\u001b[39m : \u001b[39m'\u001b[39m\u001b[39mbasicTitle\u001b[39m\u001b[39m'\u001b[39m})\n\u001b[0;32m--> <a href='file:///Users/m.kazu/Documents/hara/generate_nlp/jalan_suumo_scraping/utils/functions.py?line=412'>413</a>\u001b[0m review \u001b[39m=\u001b[39m review_soup\u001b[39m.\u001b[39;49mtext\u001b[39m.\u001b[39mreplace(\u001b[39m'\u001b[39m\u001b[39m\\n\u001b[39;00m\u001b[39m'\u001b[39m, \u001b[39m'\u001b[39m\u001b[39m'\u001b[39m)\n\u001b[1;32m    <a href='file:///Users/m.kazu/Documents/hara/generate_nlp/jalan_suumo_scraping/utils/functions.py?line=414'>415</a>\u001b[0m review_property_dict[\u001b[39m'\u001b[39m\u001b[39mtitle\u001b[39m\u001b[39m'\u001b[39m] \u001b[39m=\u001b[39m title\n\u001b[1;32m    <a href='file:///Users/m.kazu/Documents/hara/generate_nlp/jalan_suumo_scraping/utils/functions.py?line=415'>416</a>\u001b[0m review_property_dict[\u001b[39m'\u001b[39m\u001b[39mreview\u001b[39m\u001b[39m'\u001b[39m] \u001b[39m=\u001b[39m review\n",
      "\u001b[0;31mAttributeError\u001b[0m: 'NoneType' object has no attribute 'text'"
     ]
    }
   ],
   "source": [
    "jalan()"
   ]
  },
  {
   "cell_type": "code",
   "execution_count": null,
   "metadata": {},
   "outputs": [],
   "source": []
  }
 ],
 "metadata": {
  "interpreter": {
   "hash": "deccb9eb5c953c4bcab04ea2d9a2de5e0654e94068f38f604f10171f35bb8df2"
  },
  "kernelspec": {
   "display_name": "Python 3.9.12 ('scraping_py39')",
   "language": "python",
   "name": "python3"
  },
  "language_info": {
   "codemirror_mode": {
    "name": "ipython",
    "version": 3
   },
   "file_extension": ".py",
   "mimetype": "text/x-python",
   "name": "python",
   "nbconvert_exporter": "python",
   "pygments_lexer": "ipython3",
   "version": "3.9.12"
  },
  "orig_nbformat": 4
 },
 "nbformat": 4,
 "nbformat_minor": 2
}
