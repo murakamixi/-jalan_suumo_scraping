{
 "cells": [
  {
   "cell_type": "code",
   "execution_count": null,
   "metadata": {},
   "outputs": [],
   "source": []
  },
  {
   "cell_type": "code",
   "execution_count": null,
   "metadata": {},
   "outputs": [
    {
     "name": "stderr",
     "output_type": "stream",
     "text": [
      "\n",
      "\n",
      "====== WebDriver manager ======\n",
      "Current google-chrome version is 91.0.4472\n",
      "Get LATEST chromedriver version for 91.0.4472 google-chrome\n",
      "Driver [/home/murakami/.wdm/drivers/chromedriver/linux64/91.0.4472.101/chromedriver] found in cache\n"
     ]
    },
    {
     "name": "stdout",
     "output_type": "stream",
     "text": [
      "0 Hokkaido\n"
     ]
    },
    {
     "name": "stderr",
     "output_type": "stream",
     "text": [
      "\n",
      "\n",
      "====== WebDriver manager ======\n",
      "Current google-chrome version is 91.0.4472\n",
      "Get LATEST chromedriver version for 91.0.4472 google-chrome\n",
      "Driver [/home/murakami/.wdm/drivers/chromedriver/linux64/91.0.4472.101/chromedriver] found in cache\n",
      "\n",
      "\n",
      "====== WebDriver manager ======\n",
      "Current google-chrome version is 91.0.4472\n",
      "Get LATEST chromedriver version for 91.0.4472 google-chrome\n",
      "Driver [/home/murakami/.wdm/drivers/chromedriver/linux64/91.0.4472.101/chromedriver] found in cache\n"
     ]
    },
    {
     "name": "stdout",
     "output_type": "stream",
     "text": [
      "https://suumo.jp/jj/bukken/ichiran/JJ010FJ001/?ar=010&bs=021&ta=01&jspIdFlg=patternShikugun&kb=1&kt=9999999&tb=0&tt=9999999&hb=0&ht=9999999&ekTjCd=&ekTjNm=&tj=0&cnb=0&cn=9999999\n",
      "property's page URL :  /chukoikkodate/hokkaido_/sc_iwamizawa/nc_97138130/\n",
      "0_0 https://suumo.jp/front/gazo/bukken/010/N010000/img/130/97138130/97138130_0001.jpg\n",
      "0_1 https://suumo.jp/front/gazo/bukken/010/N010000/img/130/97138130/97138130_0002.jpg\n",
      "0_2 https://suumo.jp/front/gazo/bukken/010/N010000/img/130/97138130/97138130_0003.jpg\n",
      "0_3 https://suumo.jp/front/gazo/bukken/010/N010000/img/130/97138130/97138130_0005.jpg\n",
      "0_4 https://suumo.jp/front/gazo/bukken/010/N010000/img/130/97138130/97138130_0014.jpg\n",
      "0_5 https://suumo.jp/front/gazo/bukken/010/N010000/img/130/97138130/97138130_0023.jpg\n",
      "0_6 https://suumo.jp/front/gazo/bukken/010/N010000/img/130/97138130/97138130_0007.jpg\n",
      "0_7 https://suumo.jp/front/gazo/bukken/010/N010000/img/130/97138130/97138130_0004.jpg\n",
      "0_8 https://suumo.jp/front/gazo/bukken/010/N010000/img/130/97138130/97138130_0018.jpg\n",
      "0_9 https://suumo.jp/front/gazo/bukken/010/N010000/img/130/97138130/97138130_0020.jpg\n",
      "0_10 https://suumo.jp/front/gazo/bukken/010/N010000/img/130/97138130/97138130_0012.jpg\n",
      "0_11 https://suumo.jp/front/gazo/bukken/010/N010000/img/130/97138130/97138130_0011.jpg\n",
      "0_12 https://suumo.jp/front/gazo/bukken/010/N010000/img/130/97138130/97138130_0016.jpg\n",
      "0_13 https://suumo.jp/front/gazo/bukken/010/N010000/img/130/97138130/97138130_0006.jpg\n",
      "0_14 https://suumo.jp/front/gazo/bukken/010/N010000/img/130/97138130/97138130_0015.jpg\n",
      "0_15 https://suumo.jp/front/gazo/bukken/010/N010000/img/130/97138130/97138130_0008.jpg\n",
      "0_16 https://suumo.jp/front/gazo/bukken/010/N010000/img/130/97138130/97138130_0019.jpg\n",
      "0_17 https://suumo.jp/front/gazo/bukken/010/N010000/img/130/97138130/97138130_0013.jpg\n",
      "0_18 https://suumo.jp/front/gazo/bukken/010/N010000/img/130/97138130/97138130_0017.jpg\n",
      "0_19 https://suumo.jp/front/gazo/bukken/010/N010000/img/130/97138130/97138130_0009.jpg\n",
      "0_20 https://img01.suumo.com/jj/resizeImage?src=gazo%2Fbukken%2F010%2FN010000%2Fimg%2F130%2F97138130%2F97138130_0001.jpg&w=84&h=84\n",
      "0_21 https://img01.suumo.com/jj/resizeImage?src=gazo%2Fbukken%2F010%2FN010000%2Fimg%2F130%2F97138130%2F97138130_0002.jpg&w=84&h=84\n",
      "0_22 https://img01.suumo.com/jj/resizeImage?src=gazo%2Fbukken%2F010%2FN010000%2Fimg%2F130%2F97138130%2F97138130_0003.jpg&w=84&h=84\n"
     ]
    }
   ],
   "source": [
    "#for prefecture_name, url in data.urls.items():\n",
    "for url in [data.urls['Hokkaido']]:\n",
    "    prefecture_name = \"Hokkaido\"\n",
    "    print(sum_count, prefecture_name)\n",
    "    sum_count += 1\n",
    "    \n",
    "    url = url\n",
    "\n",
    "    options = Options()\n",
    "    options.add_argument('--headless')\n",
    "    browser = webdriver.Chrome(ChromeDriverManager().install(), options=options)\n",
    "    #url = 'https://suumo.jp/jj/bukken/ichiran/JJ\"01\"0FJ\"0\"01/?ar=\"02\"0&bs=\"021&ta=\"06&jspIdFlg=patternShikugun&kb=1&kt=9999999&tb=\"0&tt=9999999&hb=\"0&ht=9999999&ekTjCd=&ekTjNm=&tj=\"0&cnb=\"0&cn=9999999'\n",
    "    browser.get(url)\n",
    "\n",
    "\n",
    "\n",
    "    url = browser.current_url\n",
    "    res = requests.get(url)\n",
    "    soup = BeautifulSoup(res.content, 'html.parser')\n",
    "    a_elems = soup.find_all('div', attrs={'class' : 'property_unit-header'})\n",
    "\n",
    "    data_list = []\n",
    "\n",
    "    count = \"0\n",
    "\n",
    "    #url = 'https://suumo.jp/jj/bukken/ichiran/JJ\"01\"0FJ\"0\"01/?ar=\"02\"0&bs=\"021&ta=\"06&jspIdFlg=patternShikugun&kb=1&kt=9999999&tb=\"0&tt=9999999&hb=\"0&ht=9999999&ekTjCd=&ekTjNm=&tj=\"0&cnb=\"0&cn=9999999'\n",
    "    options = Options()\n",
    "    options.add_argument('--headless')\n",
    "    browser = webdriver.Chrome(ChromeDriverManager().install(), options=options)\n",
    "    browser.get(url)\n",
    "\n",
    "    while True:\n",
    "        url = browser.current_url\n",
    "        print(url)\n",
    "        #ブラウザの起動\n",
    "        options = Options()\n",
    "        options.add_argument('--headless')\n",
    "        browser = webdriver.Chrome(ChromeDriverManager().install(), options=options)\n",
    "\n",
    "        browser.get(url)\n",
    "\n",
    "        try:\n",
    "            res = requests.get(url)\n",
    "            soup = BeautifulSoup(res.content, 'html.parser')\n",
    "            urls = F.get_urls(soup)\n",
    "            house_info, house_id = F.get_index_info(urls, data_list, house_id)\n",
    "\n",
    "            print(\"current page url: \", url)\n",
    "            browser.find_element_by_link_text('次へ').click()\n",
    "            if count % 1\"0 == \"0:\n",
    "                print(\"pages:{\"0}\".format(count))\n",
    "                print('==============================================')\n",
    "                time.sleep(6\"0)\n",
    "            time.sleep(6\"0)\n",
    "\n",
    "            count += 1\n",
    "\n",
    "        except NoSuchElementException:\n",
    "            browser.quit()\n",
    "            break\n",
    "\n",
    "    print('browser quit')\n",
    "\n",
    "    houses_dict = {}\n",
    "    img_list = []\n",
    "    len(house_info)\n",
    "\n",
    "    for house in house_info:\n",
    "        # Pandasで加工しやすいようにKeyが一つの辞書に家の情報を変更する\n",
    "        house_id, house_dict = F.edit_house_data(house)\n",
    "        houses_dict[house_id] = house_dict\n",
    "        # Houseの画像は変更が必要ないので、そのままリストに追加する\n",
    "        # ただ、一つづつ取り出して追加する必要があるので、要注意\n",
    "        img_list += house['imgs']\n",
    "\n",
    "    attribute_df = pd.DataFrame(houses_dict).transpose()\n",
    "    attribute_df.to_csv('csv/attribute_{filename}.csv'.format(filename = prefecture_name))\n",
    "    imgs_df = pd.DataFrame(img_list)\n",
    "    imgs_df.to_csv('csv/imgs_{filename}.csv'.format(filename = prefecture_name))"
   ]
  },
  {
   "cell_type": "code",
   "execution_count": 2,
   "metadata": {},
   "outputs": [],
   "source": [
    "urls_list = [\n",
    "\"0_0 https://suumo.jp/front/gazo/bukken/010/N010000/img/130/97138130/97138130_0001.jpg\",\n",
    "\"0_1 https://suumo.jp/front/gazo/bukken/010/N010000/img/130/97138130/97138130_0002.jpg\",\n",
    "\"0_2 https://suumo.jp/front/gazo/bukken/010/N010000/img/130/97138130/97138130_0003.jpg\",\n",
    "\"0_3 https://suumo.jp/front/gazo/bukken/010/N010000/img/130/97138130/97138130_0005.jpg\",\n",
    "\"0_4 https://suumo.jp/front/gazo/bukken/010/N010000/img/130/97138130/97138130_0014.jpg\",\n",
    "\"0_5 https://suumo.jp/front/gazo/bukken/010/N010000/img/130/97138130/97138130_0023.jpg\",\n",
    "\"0_6 https://suumo.jp/front/gazo/bukken/010/N010000/img/130/97138130/97138130_0007.jpg\",\n",
    "\"0_7 https://suumo.jp/front/gazo/bukken/010/N010000/img/130/97138130/97138130_0004.jpg\",\n",
    "\"0_8 https://suumo.jp/front/gazo/bukken/010/N010000/img/130/97138130/97138130_0018.jpg\",\n",
    "\"0_9 https://suumo.jp/front/gazo/bukken/010/N010000/img/130/97138130/97138130_0020.jpg\",\n",
    "\"0_10 https://suumo.jp/front/gazo/bukken/010/N010000/img/130/97138130/97138130_0012.jpg\",\n",
    "\"0_11 https://suumo.jp/front/gazo/bukken/010/N010000/img/130/97138130/97138130_0011.jpg\",\n",
    "\"0_12 https://suumo.jp/front/gazo/bukken/010/N010000/img/130/97138130/97138130_0016.jpg\",\n",
    "\"0_13 https://suumo.jp/front/gazo/bukken/010/N010000/img/130/97138130/97138130_0006.jpg\",\n",
    "\"0_14 https://suumo.jp/front/gazo/bukken/010/N010000/img/130/97138130/97138130_0015.jpg\",\n",
    "\"0_15 https://suumo.jp/front/gazo/bukken/010/N010000/img/130/97138130/97138130_0008.jpg\",\n",
    "\"0_16 https://suumo.jp/front/gazo/bukken/010/N010000/img/130/97138130/97138130_0019.jpg\",\n",
    "\"0_17 https://suumo.jp/front/gazo/bukken/010/N010000/img/130/97138130/97138130_0013.jpg\",\n",
    "\"0_18 https://suumo.jp/front/gazo/bukken/010/N010000/img/130/97138130/97138130_0017.jpg\",\n",
    "\"0_19 https://suumo.jp/front/gazo/bukken/010/N010000/img/130/97138130/97138130_0009.jpg\",\n",
    "\"0_20 https://img01.suumo.com/jj/resizeImage?src=gazo%2Fbukken%2F010%2FN010000%2Fimg%2F130%2F97138130%2F97138130_0001.jpg&w=84&h=84\",\n",
    "\"0_21 https://img01.suumo.com/jj/resizeImage?src=gazo%2Fbukken%2F010%2FN010000%2Fimg%2F130%2F97138130%2F97138130_0002.jpg&w=84&h=84\",\n",
    "\"0_22 https://img01.suumo.com/jj/resizeImage?src=gazo%2Fbukken%2F010%2FN010000%2Fimg%2F130%2F97138130%2F97138130_0003.jpg&w=84&h=84\",\n",
    "]"
   ]
  },
  {
   "cell_type": "code",
   "execution_count": 11,
   "metadata": {},
   "outputs": [
    {
     "ename": "error",
     "evalue": "nothing to repeat at position 0",
     "output_type": "error",
     "traceback": [
      "\u001b[0;31m---------------------------------------------------------------------------\u001b[0m",
      "\u001b[0;31merror\u001b[0m                                     Traceback (most recent call last)",
      "\u001b[0;32m<ipython-input-11-900a8efa7444>\u001b[0m in \u001b[0;36m<module>\u001b[0;34m\u001b[0m\n\u001b[1;32m      1\u001b[0m \u001b[0;32mimport\u001b[0m \u001b[0mre\u001b[0m\u001b[0;34m\u001b[0m\u001b[0;34m\u001b[0m\u001b[0m\n\u001b[1;32m      2\u001b[0m \u001b[0;32mfor\u001b[0m \u001b[0mi\u001b[0m \u001b[0;32min\u001b[0m \u001b[0murls_list\u001b[0m\u001b[0;34m:\u001b[0m\u001b[0;34m\u001b[0m\u001b[0;34m\u001b[0m\u001b[0m\n\u001b[0;32m----> 3\u001b[0;31m     \u001b[0msearch\u001b[0m \u001b[0;34m=\u001b[0m \u001b[0mre\u001b[0m\u001b[0;34m.\u001b[0m\u001b[0msearch\u001b[0m\u001b[0;34m(\u001b[0m\u001b[0;34mr\"*/resizeImage/*\"\u001b[0m\u001b[0;34m,\u001b[0m \u001b[0mi\u001b[0m\u001b[0;34m)\u001b[0m\u001b[0;34m\u001b[0m\u001b[0;34m\u001b[0m\u001b[0m\n\u001b[0m\u001b[1;32m      4\u001b[0m     \u001b[0mprint\u001b[0m\u001b[0;34m(\u001b[0m\u001b[0mi\u001b[0m\u001b[0;34m)\u001b[0m\u001b[0;34m\u001b[0m\u001b[0;34m\u001b[0m\u001b[0m\n\u001b[1;32m      5\u001b[0m     \u001b[0;32mif\u001b[0m \u001b[0msearch\u001b[0m\u001b[0;34m:\u001b[0m\u001b[0;34m\u001b[0m\u001b[0;34m\u001b[0m\u001b[0m\n",
      "\u001b[0;32m/usr/lib/python3.6/re.py\u001b[0m in \u001b[0;36msearch\u001b[0;34m(pattern, string, flags)\u001b[0m\n\u001b[1;32m    180\u001b[0m     \"\"\"Scan through string looking for a match to the pattern, returning\n\u001b[1;32m    181\u001b[0m     a match object, or None if no match was found.\"\"\"\n\u001b[0;32m--> 182\u001b[0;31m     \u001b[0;32mreturn\u001b[0m \u001b[0m_compile\u001b[0m\u001b[0;34m(\u001b[0m\u001b[0mpattern\u001b[0m\u001b[0;34m,\u001b[0m \u001b[0mflags\u001b[0m\u001b[0;34m)\u001b[0m\u001b[0;34m.\u001b[0m\u001b[0msearch\u001b[0m\u001b[0;34m(\u001b[0m\u001b[0mstring\u001b[0m\u001b[0;34m)\u001b[0m\u001b[0;34m\u001b[0m\u001b[0;34m\u001b[0m\u001b[0m\n\u001b[0m\u001b[1;32m    183\u001b[0m \u001b[0;34m\u001b[0m\u001b[0m\n\u001b[1;32m    184\u001b[0m \u001b[0;32mdef\u001b[0m \u001b[0msub\u001b[0m\u001b[0;34m(\u001b[0m\u001b[0mpattern\u001b[0m\u001b[0;34m,\u001b[0m \u001b[0mrepl\u001b[0m\u001b[0;34m,\u001b[0m \u001b[0mstring\u001b[0m\u001b[0;34m,\u001b[0m \u001b[0mcount\u001b[0m\u001b[0;34m=\u001b[0m\u001b[0;36m0\u001b[0m\u001b[0;34m,\u001b[0m \u001b[0mflags\u001b[0m\u001b[0;34m=\u001b[0m\u001b[0;36m0\u001b[0m\u001b[0;34m)\u001b[0m\u001b[0;34m:\u001b[0m\u001b[0;34m\u001b[0m\u001b[0;34m\u001b[0m\u001b[0m\n",
      "\u001b[0;32m/usr/lib/python3.6/re.py\u001b[0m in \u001b[0;36m_compile\u001b[0;34m(pattern, flags)\u001b[0m\n\u001b[1;32m    299\u001b[0m     \u001b[0;32mif\u001b[0m \u001b[0;32mnot\u001b[0m \u001b[0msre_compile\u001b[0m\u001b[0;34m.\u001b[0m\u001b[0misstring\u001b[0m\u001b[0;34m(\u001b[0m\u001b[0mpattern\u001b[0m\u001b[0;34m)\u001b[0m\u001b[0;34m:\u001b[0m\u001b[0;34m\u001b[0m\u001b[0;34m\u001b[0m\u001b[0m\n\u001b[1;32m    300\u001b[0m         \u001b[0;32mraise\u001b[0m \u001b[0mTypeError\u001b[0m\u001b[0;34m(\u001b[0m\u001b[0;34m\"first argument must be string or compiled pattern\"\u001b[0m\u001b[0;34m)\u001b[0m\u001b[0;34m\u001b[0m\u001b[0;34m\u001b[0m\u001b[0m\n\u001b[0;32m--> 301\u001b[0;31m     \u001b[0mp\u001b[0m \u001b[0;34m=\u001b[0m \u001b[0msre_compile\u001b[0m\u001b[0;34m.\u001b[0m\u001b[0mcompile\u001b[0m\u001b[0;34m(\u001b[0m\u001b[0mpattern\u001b[0m\u001b[0;34m,\u001b[0m \u001b[0mflags\u001b[0m\u001b[0;34m)\u001b[0m\u001b[0;34m\u001b[0m\u001b[0;34m\u001b[0m\u001b[0m\n\u001b[0m\u001b[1;32m    302\u001b[0m     \u001b[0;32mif\u001b[0m \u001b[0;32mnot\u001b[0m \u001b[0;34m(\u001b[0m\u001b[0mflags\u001b[0m \u001b[0;34m&\u001b[0m \u001b[0mDEBUG\u001b[0m\u001b[0;34m)\u001b[0m\u001b[0;34m:\u001b[0m\u001b[0;34m\u001b[0m\u001b[0;34m\u001b[0m\u001b[0m\n\u001b[1;32m    303\u001b[0m         \u001b[0;32mif\u001b[0m \u001b[0mlen\u001b[0m\u001b[0;34m(\u001b[0m\u001b[0m_cache\u001b[0m\u001b[0;34m)\u001b[0m \u001b[0;34m>=\u001b[0m \u001b[0m_MAXCACHE\u001b[0m\u001b[0;34m:\u001b[0m\u001b[0;34m\u001b[0m\u001b[0;34m\u001b[0m\u001b[0m\n",
      "\u001b[0;32m/usr/lib/python3.6/sre_compile.py\u001b[0m in \u001b[0;36mcompile\u001b[0;34m(p, flags)\u001b[0m\n\u001b[1;32m    560\u001b[0m     \u001b[0;32mif\u001b[0m \u001b[0misstring\u001b[0m\u001b[0;34m(\u001b[0m\u001b[0mp\u001b[0m\u001b[0;34m)\u001b[0m\u001b[0;34m:\u001b[0m\u001b[0;34m\u001b[0m\u001b[0;34m\u001b[0m\u001b[0m\n\u001b[1;32m    561\u001b[0m         \u001b[0mpattern\u001b[0m \u001b[0;34m=\u001b[0m \u001b[0mp\u001b[0m\u001b[0;34m\u001b[0m\u001b[0;34m\u001b[0m\u001b[0m\n\u001b[0;32m--> 562\u001b[0;31m         \u001b[0mp\u001b[0m \u001b[0;34m=\u001b[0m \u001b[0msre_parse\u001b[0m\u001b[0;34m.\u001b[0m\u001b[0mparse\u001b[0m\u001b[0;34m(\u001b[0m\u001b[0mp\u001b[0m\u001b[0;34m,\u001b[0m \u001b[0mflags\u001b[0m\u001b[0;34m)\u001b[0m\u001b[0;34m\u001b[0m\u001b[0;34m\u001b[0m\u001b[0m\n\u001b[0m\u001b[1;32m    563\u001b[0m     \u001b[0;32melse\u001b[0m\u001b[0;34m:\u001b[0m\u001b[0;34m\u001b[0m\u001b[0;34m\u001b[0m\u001b[0m\n\u001b[1;32m    564\u001b[0m         \u001b[0mpattern\u001b[0m \u001b[0;34m=\u001b[0m \u001b[0;32mNone\u001b[0m\u001b[0;34m\u001b[0m\u001b[0;34m\u001b[0m\u001b[0m\n",
      "\u001b[0;32m/usr/lib/python3.6/sre_parse.py\u001b[0m in \u001b[0;36mparse\u001b[0;34m(str, flags, pattern)\u001b[0m\n\u001b[1;32m    853\u001b[0m \u001b[0;34m\u001b[0m\u001b[0m\n\u001b[1;32m    854\u001b[0m     \u001b[0;32mtry\u001b[0m\u001b[0;34m:\u001b[0m\u001b[0;34m\u001b[0m\u001b[0;34m\u001b[0m\u001b[0m\n\u001b[0;32m--> 855\u001b[0;31m         \u001b[0mp\u001b[0m \u001b[0;34m=\u001b[0m \u001b[0m_parse_sub\u001b[0m\u001b[0;34m(\u001b[0m\u001b[0msource\u001b[0m\u001b[0;34m,\u001b[0m \u001b[0mpattern\u001b[0m\u001b[0;34m,\u001b[0m \u001b[0mflags\u001b[0m \u001b[0;34m&\u001b[0m \u001b[0mSRE_FLAG_VERBOSE\u001b[0m\u001b[0;34m,\u001b[0m \u001b[0;36m0\u001b[0m\u001b[0;34m)\u001b[0m\u001b[0;34m\u001b[0m\u001b[0;34m\u001b[0m\u001b[0m\n\u001b[0m\u001b[1;32m    856\u001b[0m     \u001b[0;32mexcept\u001b[0m \u001b[0mVerbose\u001b[0m\u001b[0;34m:\u001b[0m\u001b[0;34m\u001b[0m\u001b[0;34m\u001b[0m\u001b[0m\n\u001b[1;32m    857\u001b[0m         \u001b[0;31m# the VERBOSE flag was switched on inside the pattern.  to be\u001b[0m\u001b[0;34m\u001b[0m\u001b[0;34m\u001b[0m\u001b[0;34m\u001b[0m\u001b[0m\n",
      "\u001b[0;32m/usr/lib/python3.6/sre_parse.py\u001b[0m in \u001b[0;36m_parse_sub\u001b[0;34m(source, state, verbose, nested)\u001b[0m\n\u001b[1;32m    414\u001b[0m     \u001b[0;32mwhile\u001b[0m \u001b[0;32mTrue\u001b[0m\u001b[0;34m:\u001b[0m\u001b[0;34m\u001b[0m\u001b[0;34m\u001b[0m\u001b[0m\n\u001b[1;32m    415\u001b[0m         itemsappend(_parse(source, state, verbose, nested + 1,\n\u001b[0;32m--> 416\u001b[0;31m                            not nested and not items))\n\u001b[0m\u001b[1;32m    417\u001b[0m         \u001b[0;32mif\u001b[0m \u001b[0;32mnot\u001b[0m \u001b[0msourcematch\u001b[0m\u001b[0;34m(\u001b[0m\u001b[0;34m\"|\"\u001b[0m\u001b[0;34m)\u001b[0m\u001b[0;34m:\u001b[0m\u001b[0;34m\u001b[0m\u001b[0;34m\u001b[0m\u001b[0m\n\u001b[1;32m    418\u001b[0m             \u001b[0;32mbreak\u001b[0m\u001b[0;34m\u001b[0m\u001b[0;34m\u001b[0m\u001b[0m\n",
      "\u001b[0;32m/usr/lib/python3.6/sre_parse.py\u001b[0m in \u001b[0;36m_parse\u001b[0;34m(source, state, verbose, nested, first)\u001b[0m\n\u001b[1;32m    614\u001b[0m             \u001b[0;32mif\u001b[0m \u001b[0;32mnot\u001b[0m \u001b[0mitem\u001b[0m \u001b[0;32mor\u001b[0m \u001b[0;34m(\u001b[0m\u001b[0m_len\u001b[0m\u001b[0;34m(\u001b[0m\u001b[0mitem\u001b[0m\u001b[0;34m)\u001b[0m \u001b[0;34m==\u001b[0m \u001b[0;36m1\u001b[0m \u001b[0;32mand\u001b[0m \u001b[0mitem\u001b[0m\u001b[0;34m[\u001b[0m\u001b[0;36m0\u001b[0m\u001b[0;34m]\u001b[0m\u001b[0;34m[\u001b[0m\u001b[0;36m0\u001b[0m\u001b[0;34m]\u001b[0m \u001b[0;32mis\u001b[0m \u001b[0mAT\u001b[0m\u001b[0;34m)\u001b[0m\u001b[0;34m:\u001b[0m\u001b[0;34m\u001b[0m\u001b[0;34m\u001b[0m\u001b[0m\n\u001b[1;32m    615\u001b[0m                 raise source.error(\"nothing to repeat\",\n\u001b[0;32m--> 616\u001b[0;31m                                    source.tell() - here + len(this))\n\u001b[0m\u001b[1;32m    617\u001b[0m             \u001b[0;32mif\u001b[0m \u001b[0mitem\u001b[0m\u001b[0;34m[\u001b[0m\u001b[0;36m0\u001b[0m\u001b[0;34m]\u001b[0m\u001b[0;34m[\u001b[0m\u001b[0;36m0\u001b[0m\u001b[0;34m]\u001b[0m \u001b[0;32min\u001b[0m \u001b[0m_REPEATCODES\u001b[0m\u001b[0;34m:\u001b[0m\u001b[0;34m\u001b[0m\u001b[0;34m\u001b[0m\u001b[0m\n\u001b[1;32m    618\u001b[0m                 raise source.error(\"multiple repeat\",\n",
      "\u001b[0;31merror\u001b[0m: nothing to repeat at position 0"
     ]
    }
   ],
   "source": [
    "import re\n",
    "for i in urls_list:\n",
    "    if i in \"resizeImage\":\n",
    "        print(\"resize image ture\")\n",
    "    elif i not in \"resizeImage\":\n",
    "        print(\"resize image false\")\n",
    "    else:\n",
    "        print(\"fail in judge\")\n",
    "    #print(i.find(\"resizeImage\"))"
   ]
  },
  {
   "cell_type": "code",
   "execution_count": 20,
   "metadata": {},
   "outputs": [
    {
     "name": "stdout",
     "output_type": "stream",
     "text": [
      "Match!\n",
      "Match!\n",
      "Match!\n",
      "Match!\n",
      "Match!\n",
      "Match!\n",
      "Match!\n",
      "Match!\n",
      "Match!\n",
      "Match!\n",
      "Match!\n",
      "Match!\n",
      "Match!\n",
      "Match!\n",
      "Match!\n",
      "Match!\n",
      "Match!\n",
      "Match!\n",
      "Match!\n",
      "Match!\n",
      "false\n",
      "false\n",
      "false\n"
     ]
    }
   ],
   "source": [
    "import re\n",
    "for i in urls_list:\n",
    "    if not re.compile(\"resizeImage\").search(i):\n",
    "        print(\"Match!\")\n",
    "    else:\n",
    "        print(\"false\")"
   ]
  },
  {
   "cell_type": "code",
   "execution_count": 16,
   "metadata": {},
   "outputs": [
    {
     "ename": "SyntaxError",
     "evalue": "invalid syntax (<ipython-input-16-84902f09171b>, line 11)",
     "output_type": "error",
     "traceback": [
      "\u001b[0;36m  File \u001b[0;32m\"<ipython-input-16-84902f09171b>\"\u001b[0;36m, line \u001b[0;32m11\u001b[0m\n\u001b[0;31m    print(match_one++Not Match)\u001b[0m\n\u001b[0m                             ^\u001b[0m\n\u001b[0;31mSyntaxError\u001b[0m\u001b[0;31m:\u001b[0m invalid syntax\n"
     ]
    }
   ],
   "source": []
  },
  {
   "cell_type": "code",
   "execution_count": null,
   "metadata": {},
   "outputs": [],
   "source": []
  }
 ],
 "metadata": {
  "kernelspec": {
   "display_name": "Python 3",
   "language": "python",
   "name": "python3"
  },
  "language_info": {
   "codemirror_mode": {
    "name": "ipython",
    "version": 3
   },
   "file_extension": ".py",
   "mimetype": "text/x-python",
   "name": "python",
   "nbconvert_exporter": "python",
   "pygments_lexer": "ipython3",
   "version": "3.6.9"
  }
 },
 "nbformat": 4,
 "nbformat_minor": 5
}