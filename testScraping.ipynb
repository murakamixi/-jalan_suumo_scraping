{
 "cells": [
  {
   "cell_type": "markdown",
   "metadata": {},
   "source": [
    "# モジュールのインストール"
   ]
  },
  {
   "cell_type": "code",
   "execution_count": 1,
   "metadata": {},
   "outputs": [
    {
     "name": "stdout",
     "output_type": "stream",
     "text": [
      "Defaulting to user installation because normal site-packages is not writeable\n",
      "Requirement already satisfied: selenium in /Users/kazu/.local/lib/python3.8/site-packages (3.141.0)\n",
      "Requirement already satisfied: urllib3 in /Users/room513/opt/anaconda3/lib/python3.8/site-packages (from selenium) (1.25.11)\n",
      "Defaulting to user installation because normal site-packages is not writeable\n",
      "Requirement already satisfied: webdriver_manager in /Users/kazu/.local/lib/python3.8/site-packages (3.4.2)\n",
      "Requirement already satisfied: crayons in /Users/kazu/.local/lib/python3.8/site-packages (from webdriver_manager) (0.4.0)\n",
      "Requirement already satisfied: configparser in /Users/kazu/.local/lib/python3.8/site-packages (from webdriver_manager) (5.0.2)\n",
      "Requirement already satisfied: requests in /Users/room513/opt/anaconda3/lib/python3.8/site-packages (from webdriver_manager) (2.24.0)\n",
      "Requirement already satisfied: colorama in /Users/room513/opt/anaconda3/lib/python3.8/site-packages (from crayons->webdriver_manager) (0.4.4)\n",
      "Requirement already satisfied: idna<3,>=2.5 in /Users/room513/opt/anaconda3/lib/python3.8/site-packages (from requests->webdriver_manager) (2.10)\n",
      "Requirement already satisfied: chardet<4,>=3.0.2 in /Users/room513/opt/anaconda3/lib/python3.8/site-packages (from requests->webdriver_manager) (3.0.4)\n",
      "Requirement already satisfied: certifi>=2017.4.17 in /Users/room513/opt/anaconda3/lib/python3.8/site-packages (from requests->webdriver_manager) (2020.6.20)\n",
      "Requirement already satisfied: urllib3!=1.25.0,!=1.25.1,<1.26,>=1.21.1 in /Users/room513/opt/anaconda3/lib/python3.8/site-packages (from requests->webdriver_manager) (1.25.11)\n",
      "Defaulting to user installation because normal site-packages is not writeable\n",
      "Requirement already satisfied: requests in /Users/room513/opt/anaconda3/lib/python3.8/site-packages (2.24.0)\n",
      "Requirement already satisfied: idna<3,>=2.5 in /Users/room513/opt/anaconda3/lib/python3.8/site-packages (from requests) (2.10)\n",
      "Requirement already satisfied: urllib3!=1.25.0,!=1.25.1,<1.26,>=1.21.1 in /Users/room513/opt/anaconda3/lib/python3.8/site-packages (from requests) (1.25.11)\n",
      "Requirement already satisfied: certifi>=2017.4.17 in /Users/room513/opt/anaconda3/lib/python3.8/site-packages (from requests) (2020.6.20)\n",
      "Requirement already satisfied: chardet<4,>=3.0.2 in /Users/room513/opt/anaconda3/lib/python3.8/site-packages (from requests) (3.0.4)\n",
      "Defaulting to user installation because normal site-packages is not writeable\n",
      "Requirement already satisfied: BeautifulSoup4 in /Users/room513/opt/anaconda3/lib/python3.8/site-packages (4.9.3)\n",
      "Requirement already satisfied: soupsieve>1.2; python_version >= \"3.0\" in /Users/room513/opt/anaconda3/lib/python3.8/site-packages (from BeautifulSoup4) (2.0.1)\n",
      "Defaulting to user installation because normal site-packages is not writeable\n",
      "Requirement already satisfied: chardet in /Users/room513/opt/anaconda3/lib/python3.8/site-packages (3.0.4)\n"
     ]
    }
   ],
   "source": [
    "!pip install selenium\n",
    "!pip install webdriver_manager\n",
    "!pip install requests\n",
    "!pip install BeautifulSoup4\n",
    "!pip install chardet"
   ]
  },
  {
   "cell_type": "code",
   "execution_count": 2,
   "metadata": {},
   "outputs": [],
   "source": [
    "from selenium import webdriver\n",
    "from webdriver_manager.chrome import ChromeDriverManager\n",
    "from selenium.webdriver.chrome.options import Options\n",
    "from selenium.common.exceptions import NoSuchElementException\n",
    "import requests\n",
    "from bs4 import BeautifulSoup\n",
    "import pandas as pd\n",
    "import time"
   ]
  },
  {
   "cell_type": "markdown",
   "metadata": {},
   "source": [
    "# ページごとにレビューの取得する関数"
   ]
  },
  {
   "cell_type": "code",
   "execution_count": 3,
   "metadata": {},
   "outputs": [],
   "source": [
    "def get_all_review(soup, dataList):\n",
    "    # 全てのレビューの取得\n",
    "    reviews = soup.find_all('div', attrs={'class':'item-listContents'})\n",
    "\n",
    "    for review in reviews:\n",
    "        # 個々のレビューに対してデータを取得\n",
    "        if review.find('p', attrs={'class': 'item-title'}) is not None:\n",
    "            title = review.find('p', attrs={'class': 'item-title'}).text\n",
    "        else:\n",
    "            title = ''\n",
    "            \n",
    "        if review.find('span', attrs={'class': 'reviewPoint'}) is not None:\n",
    "            point = review.find('span', attrs={'class': 'reviewPoint'}).text\n",
    "        else:\n",
    "            point = ''\n",
    "        \n",
    "        if review.find('ul', attrs={'class':'iconCompanionTag'}) is not None:\n",
    "            tag = review.find('ul', attrs={'class':'iconCompanionTag'}).text.replace('\\n', '')\n",
    "        else:\n",
    "            tag = ''\n",
    "\n",
    "        if review.find('div', attrs={'class': 'item-reviewTextInner'}) is not None:\n",
    "            text = review.find('div', attrs={'class': 'item-reviewTextInner'}).text\n",
    "        else:\n",
    "            text = ''\n",
    "        \n",
    "        if review.find_all('ul', attrs={'class': 'item-reviewDetail'}) is not None:\n",
    "            details = review.find_all('ul', attrs={'class': 'item-reviewDetail'})\n",
    "        else:\n",
    "            details = ''\n",
    "\n",
    "        # detailsの中身を今後色々しやすいように辞書形式に変更  \n",
    "        detailList = []\n",
    "        detailDict = {}\n",
    "        for ul_tag in details:\n",
    "            for li in ul_tag.find_all('li'):\n",
    "                detailList.append(li.text)\n",
    "\n",
    "        for item in detailList:\n",
    "            item = item.split(\"：\")\n",
    "            k, v = item[0], item[1]\n",
    "            detailDict[k] = v\n",
    "\n",
    "        dtum = {'title': title, 'point': point, 'tag':tag, 'text': text, 'details': detailDict}\n",
    "        dataList.append(dtum)\n",
    "        time.sleep(1)"
   ]
  },
  {
   "cell_type": "markdown",
   "metadata": {},
   "source": [
    "# 全件取得を試みる"
   ]
  },
  {
   "cell_type": "markdown",
   "metadata": {},
   "source": [
    "## ハイパーパラメーターの設定"
   ]
  },
  {
   "cell_type": "code",
   "execution_count": 4,
   "metadata": {},
   "outputs": [],
   "source": [
    "# url = \"https://www.jalan.net/kankou/spt_06203cc3320040667/kuchikomi/?screenId=OUW3701&influxKbn=0\"\n",
    "# 鶴岡市加茂水族館\n",
    "# url = \"https://www.jalan.net/kankou/spt_06203cc3320040667/kuchikomi/\"\n",
    "# zao\n",
    "# url = \"https://www.jalan.net/kankou/spt_06201cd2110077451/kuchikomi/\"\n",
    "# 羽黒山五重塔(haguro)\n",
    "# url = \"https://www.jalan.net/kankou/spt_06424ae2180021220/kuchikomi/\"\n",
    "# 羽黒山(mtHaguro)\n",
    "# url = \"https://www.jalan.net/kankou/spt_06424ab2010001853/kuchikomi/\"\n",
    "# 蔵王温泉大露天風呂（zaoHotspring）\n",
    "# url = \"https://www.jalan.net/kankou/spt_guide000000152068/kuchikomi/\"\n",
    "# 銀山温泉　（ginzan）\n",
    "# url = \"https://www.jalan.net/kankou/spt_06212cd2110077654/kuchikomi/\"\n",
    "urls = [\"https://www.jalan.net/kankou/spt_guide000000161658/kuchikomi/\", \n",
    "        \"https://www.jalan.net/kankou/spt_05403ab2010002816/kuchikomi/\",\n",
    "        \"https://www.jalan.net/kankou/spt_06202cd2110076440/kuchikomi/\",\n",
    "        \"https://www.jalan.net/kankou/spt_06201ae3292019427/kuchikomi/\",\n",
    "        \"https://www.jalan.net/kankou/spt_06202ag2130014109/kuchikomi/\",\n",
    "        \"https://www.jalan.net/kankou/spt_06204ae2180022287/kuchikomi/\",\n",
    "        \"https://www.jalan.net/kankou/spt_06212ag2130014710/kuchikomi/\",\n",
    "        \"https://www.jalan.net/kankou/spt_06203cd2110077904/kuchikomi/\",\n",
    "        \"https://www.jalan.net/kankou/spt_guide000000186569/kuchikomi/\",\n",
    "        \"https://www.jalan.net/kankou/spt_06441cd2110078399/kuchikomi/\",\n",
    "        \"https://www.jalan.net/kankou/spt_guide000000173405/kuchikomi/\",\n",
    "        \"https://www.jalan.net/kankou/spt_06201ee4570112037/kuchikomi/\",\n",
    "        \"https://www.jalan.net/kankou/spt_06207cd2110078131/kuchikomi/\",\n",
    "        \"https://www.jalan.net/kankou/spt_06441ag2130009280/kuchikomi/\",\n",
    "        \"https://www.jalan.net/kankou/spt_06365cd2110077795/kuchikomi/\",\n",
    "        \"https://www.jalan.net/kankou/spt_06323ag2130015562/kuchikomi/\",\n",
    "        \"https://www.jalan.net/kankou/spt_06213ag2130012875/kuchikomi/\",\n",
    "        \"https://www.jalan.net/kankou/spt_06210cd2110077452/kuchikomi/\",\n",
    "        \"https://www.jalan.net/kankou/spt_06201ah3330040923/kuchikomi/\",\n",
    "        \"https://www.jalan.net/kankou/spt_06203ab2012019468/kuchikomi/\",\n",
    "        \"https://www.jalan.net/kankou/spt_06421ab2040005453/kuchikomi/\",\n",
    "        \"https://www.jalan.net/kankou/spt_06427ag2130015952/kuchikomi/\"]\n",
    "\n",
    "filenames = [\"guttoYamagata\", \"mtTyokai\", \"onogawaHotspring\", \"bunsyokan\", \"uesgiShrine\", \"yamaKyo\", \"shuwaShrine\", \n",
    "             \"yunohamaHotspring\", \"showaKan\", \"atsumiHotspring\", \"totoroTree\", \"zaoRopeway\", \"kaminoyamaHotspring\", \n",
    "             \"itsukusimaShrine\", \"hizioriHotspring\", \"hakusanShrine\", \"kumanoShrine\", \"tendoHotspring\", \"kazyoPark\",\n",
    "            \"mtGassyan\", \"mogamiRiver\", \"yudonoShrine\"]\n",
    "\n",
    "count = 0"
   ]
  },
  {
   "cell_type": "code",
   "execution_count": 6,
   "metadata": {},
   "outputs": [
    {
     "name": "stderr",
     "output_type": "stream",
     "text": [
      "\n",
      "\n",
      "====== WebDriver manager ======\n",
      "Current google-chrome version is 91.0.4472\n",
      "Get LATEST driver version for 91.0.4472\n",
      "Driver [/Users/kazu/.wdm/drivers/chromedriver/mac64/91.0.4472.19/chromedriver] found in cache\n"
     ]
    },
    {
     "name": "stdout",
     "output_type": "stream",
     "text": [
      "1623375846.243903\n",
      "pages:0\n",
      "==============================================\n",
      "pages:10\n",
      "==============================================\n",
      "pages:20\n",
      "==============================================\n",
      "pages:30\n",
      "==============================================\n",
      "pages:40\n",
      "==============================================\n"
     ]
    },
    {
     "name": "stderr",
     "output_type": "stream",
     "text": [
      "\n",
      "\n",
      "====== WebDriver manager ======\n",
      "Current google-chrome version is 91.0.4472\n",
      "Get LATEST driver version for 91.0.4472\n"
     ]
    },
    {
     "name": "stdout",
     "output_type": "stream",
     "text": [
      "508\n",
      "571.9050459861755\n"
     ]
    },
    {
     "name": "stderr",
     "output_type": "stream",
     "text": [
      "Driver [/Users/kazu/.wdm/drivers/chromedriver/mac64/91.0.4472.19/chromedriver] found in cache\n"
     ]
    },
    {
     "name": "stdout",
     "output_type": "stream",
     "text": [
      "1623376418.149152\n",
      "pages:50\n",
      "==============================================\n",
      "pages:60\n",
      "==============================================\n",
      "pages:70\n",
      "==============================================\n"
     ]
    },
    {
     "name": "stderr",
     "output_type": "stream",
     "text": [
      "\n",
      "\n",
      "====== WebDriver manager ======\n",
      "Current google-chrome version is 91.0.4472\n",
      "Get LATEST driver version for 91.0.4472\n",
      "Driver [/Users/kazu/.wdm/drivers/chromedriver/mac64/91.0.4472.19/chromedriver] found in cache\n"
     ]
    },
    {
     "name": "stdout",
     "output_type": "stream",
     "text": [
      "224\n",
      "245.92559099197388\n",
      "1623376664.0748858\n",
      "pages:80\n",
      "==============================================\n",
      "pages:90\n",
      "==============================================\n",
      "pages:100\n",
      "==============================================\n"
     ]
    },
    {
     "name": "stderr",
     "output_type": "stream",
     "text": [
      "\n",
      "\n",
      "====== WebDriver manager ======\n",
      "Current google-chrome version is 91.0.4472\n",
      "Get LATEST driver version for 91.0.4472\n"
     ]
    },
    {
     "name": "stdout",
     "output_type": "stream",
     "text": [
      "318\n",
      "350.38331413269043\n"
     ]
    },
    {
     "name": "stderr",
     "output_type": "stream",
     "text": [
      "Driver [/Users/kazu/.wdm/drivers/chromedriver/mac64/91.0.4472.19/chromedriver] found in cache\n"
     ]
    },
    {
     "name": "stdout",
     "output_type": "stream",
     "text": [
      "1623377014.458366\n",
      "pages:110\n",
      "==============================================\n",
      "pages:120\n",
      "==============================================\n",
      "pages:130\n",
      "==============================================\n"
     ]
    },
    {
     "name": "stderr",
     "output_type": "stream",
     "text": [
      "\n",
      "\n",
      "====== WebDriver manager ======\n",
      "Current google-chrome version is 91.0.4472\n",
      "Get LATEST driver version for 91.0.4472\n",
      "Driver [/Users/kazu/.wdm/drivers/chromedriver/mac64/91.0.4472.19/chromedriver] found in cache\n"
     ]
    },
    {
     "name": "stdout",
     "output_type": "stream",
     "text": [
      "338\n",
      "372.6151931285858\n",
      "1623377387.073729\n",
      "pages:140\n",
      "==============================================\n",
      "pages:150\n",
      "==============================================\n",
      "pages:160\n",
      "==============================================\n",
      "pages:170\n",
      "==============================================\n",
      "pages:180\n",
      "==============================================\n",
      "pages:190\n",
      "==============================================\n"
     ]
    },
    {
     "name": "stderr",
     "output_type": "stream",
     "text": [
      "\n",
      "\n",
      "====== WebDriver manager ======\n",
      "Current google-chrome version is 91.0.4472\n",
      "Get LATEST driver version for 91.0.4472\n"
     ]
    },
    {
     "name": "stdout",
     "output_type": "stream",
     "text": [
      "558\n",
      "616.8112869262695\n"
     ]
    },
    {
     "name": "stderr",
     "output_type": "stream",
     "text": [
      "Driver [/Users/kazu/.wdm/drivers/chromedriver/mac64/91.0.4472.19/chromedriver] found in cache\n"
     ]
    },
    {
     "name": "stdout",
     "output_type": "stream",
     "text": [
      "1623378003.885182\n",
      "pages:200\n",
      "==============================================\n",
      "pages:210\n",
      "==============================================\n",
      "pages:220\n",
      "==============================================\n",
      "pages:230\n",
      "==============================================\n",
      "pages:240\n",
      "==============================================\n"
     ]
    },
    {
     "name": "stderr",
     "output_type": "stream",
     "text": [
      "\n",
      "\n",
      "====== WebDriver manager ======\n",
      "Current google-chrome version is 91.0.4472\n",
      "Get LATEST driver version for 91.0.4472\n",
      "Driver [/Users/kazu/.wdm/drivers/chromedriver/mac64/91.0.4472.19/chromedriver] found in cache\n"
     ]
    },
    {
     "name": "stdout",
     "output_type": "stream",
     "text": [
      "542\n",
      "596.8190121650696\n",
      "1623378600.704389\n",
      "pages:250\n",
      "==============================================\n",
      "pages:260\n",
      "==============================================\n"
     ]
    },
    {
     "name": "stderr",
     "output_type": "stream",
     "text": [
      "\n",
      "\n",
      "====== WebDriver manager ======\n",
      "Current google-chrome version is 91.0.4472\n",
      "Get LATEST driver version for 91.0.4472\n",
      "Driver [/Users/kazu/.wdm/drivers/chromedriver/mac64/91.0.4472.19/chromedriver] found in cache\n"
     ]
    },
    {
     "name": "stdout",
     "output_type": "stream",
     "text": [
      "172\n",
      "193.37768387794495\n",
      "1623378794.0822332\n",
      "pages:270\n",
      "==============================================\n",
      "pages:280\n",
      "==============================================\n"
     ]
    },
    {
     "name": "stderr",
     "output_type": "stream",
     "text": [
      "\n",
      "\n",
      "====== WebDriver manager ======\n",
      "Current google-chrome version is 91.0.4472\n",
      "Get LATEST driver version for 91.0.4472\n"
     ]
    },
    {
     "name": "stdout",
     "output_type": "stream",
     "text": [
      "266\n",
      "296.26184272766113\n"
     ]
    },
    {
     "name": "stderr",
     "output_type": "stream",
     "text": [
      "Driver [/Users/kazu/.wdm/drivers/chromedriver/mac64/91.0.4472.19/chromedriver] found in cache\n"
     ]
    },
    {
     "name": "stdout",
     "output_type": "stream",
     "text": [
      "1623379090.344234\n",
      "pages:290\n",
      "==============================================\n",
      "pages:300\n",
      "==============================================\n"
     ]
    },
    {
     "name": "stderr",
     "output_type": "stream",
     "text": [
      "\n",
      "\n",
      "====== WebDriver manager ======\n",
      "Current google-chrome version is 91.0.4472\n",
      "Get LATEST driver version for 91.0.4472\n",
      "Driver [/Users/kazu/.wdm/drivers/chromedriver/mac64/91.0.4472.19/chromedriver] found in cache\n"
     ]
    },
    {
     "name": "stdout",
     "output_type": "stream",
     "text": [
      "228\n",
      "275.8911590576172\n",
      "1623379366.235541\n",
      "pages:310\n",
      "==============================================\n",
      "pages:320\n",
      "==============================================\n",
      "pages:330\n",
      "==============================================\n"
     ]
    },
    {
     "name": "stderr",
     "output_type": "stream",
     "text": [
      "\n",
      "\n",
      "====== WebDriver manager ======\n",
      "Current google-chrome version is 91.0.4472\n",
      "Get LATEST driver version for 91.0.4472\n",
      "Driver [/Users/kazu/.wdm/drivers/chromedriver/mac64/91.0.4472.19/chromedriver] found in cache\n"
     ]
    },
    {
     "name": "stdout",
     "output_type": "stream",
     "text": [
      "243\n",
      "270.97260093688965\n",
      "1623379637.208225\n",
      "pages:340\n",
      "==============================================\n",
      "pages:350\n",
      "==============================================\n"
     ]
    },
    {
     "name": "stderr",
     "output_type": "stream",
     "text": [
      "\n",
      "\n",
      "====== WebDriver manager ======\n",
      "Current google-chrome version is 91.0.4472\n",
      "Get LATEST driver version for 91.0.4472\n",
      "Driver [/Users/kazu/.wdm/drivers/chromedriver/mac64/91.0.4472.19/chromedriver] found in cache\n"
     ]
    },
    {
     "name": "stdout",
     "output_type": "stream",
     "text": [
      "212\n",
      "237.6461660861969\n",
      "1623379874.854534\n",
      "pages:360\n",
      "==============================================\n",
      "pages:370\n",
      "==============================================\n",
      "pages:380\n",
      "==============================================\n",
      "pages:390\n",
      "==============================================\n",
      "pages:400\n",
      "==============================================\n"
     ]
    },
    {
     "name": "stderr",
     "output_type": "stream",
     "text": [
      "\n",
      "\n",
      "====== WebDriver manager ======\n",
      "Current google-chrome version is 91.0.4472\n",
      "Get LATEST driver version for 91.0.4472\n"
     ]
    },
    {
     "name": "stdout",
     "output_type": "stream",
     "text": [
      "463\n",
      "510.57024812698364\n"
     ]
    },
    {
     "name": "stderr",
     "output_type": "stream",
     "text": [
      "Driver [/Users/kazu/.wdm/drivers/chromedriver/mac64/91.0.4472.19/chromedriver] found in cache\n"
     ]
    },
    {
     "name": "stdout",
     "output_type": "stream",
     "text": [
      "1623380385.42496\n",
      "pages:410\n",
      "==============================================\n",
      "pages:420\n",
      "==============================================\n",
      "pages:430\n",
      "==============================================\n"
     ]
    },
    {
     "name": "stderr",
     "output_type": "stream",
     "text": [
      "\n",
      "\n",
      "====== WebDriver manager ======\n",
      "Current google-chrome version is 91.0.4472\n",
      "Get LATEST driver version for 91.0.4472\n"
     ]
    },
    {
     "name": "stdout",
     "output_type": "stream",
     "text": [
      "352\n",
      "403.91188788414\n"
     ]
    },
    {
     "name": "stderr",
     "output_type": "stream",
     "text": [
      "Driver [/Users/kazu/.wdm/drivers/chromedriver/mac64/91.0.4472.19/chromedriver] found in cache\n"
     ]
    },
    {
     "name": "stdout",
     "output_type": "stream",
     "text": [
      "1623380789.3369899\n",
      "pages:440\n",
      "==============================================\n",
      "pages:450\n",
      "==============================================\n"
     ]
    },
    {
     "name": "stderr",
     "output_type": "stream",
     "text": [
      "\n",
      "\n",
      "====== WebDriver manager ======\n",
      "Current google-chrome version is 91.0.4472\n",
      "Get LATEST driver version for 91.0.4472\n",
      "Driver [/Users/kazu/.wdm/drivers/chromedriver/mac64/91.0.4472.19/chromedriver] found in cache\n"
     ]
    },
    {
     "name": "stdout",
     "output_type": "stream",
     "text": [
      "206\n",
      "236.9092662334442\n",
      "1623381026.2463381\n",
      "pages:460\n",
      "==============================================\n",
      "pages:470\n",
      "==============================================\n"
     ]
    },
    {
     "name": "stderr",
     "output_type": "stream",
     "text": [
      "\n",
      "\n",
      "====== WebDriver manager ======\n",
      "Current google-chrome version is 91.0.4472\n",
      "Get LATEST driver version for 91.0.4472\n"
     ]
    },
    {
     "name": "stdout",
     "output_type": "stream",
     "text": [
      "201\n",
      "224.4776906967163\n"
     ]
    },
    {
     "name": "stderr",
     "output_type": "stream",
     "text": [
      "Driver [/Users/kazu/.wdm/drivers/chromedriver/mac64/91.0.4472.19/chromedriver] found in cache\n"
     ]
    },
    {
     "name": "stdout",
     "output_type": "stream",
     "text": [
      "1623381250.724115\n",
      "pages:480\n",
      "==============================================\n",
      "pages:490\n",
      "==============================================\n"
     ]
    },
    {
     "name": "stderr",
     "output_type": "stream",
     "text": [
      "\n",
      "\n",
      "====== WebDriver manager ======\n",
      "Current google-chrome version is 91.0.4472\n",
      "Get LATEST driver version for 91.0.4472\n",
      "Driver [/Users/kazu/.wdm/drivers/chromedriver/mac64/91.0.4472.19/chromedriver] found in cache\n"
     ]
    },
    {
     "name": "stdout",
     "output_type": "stream",
     "text": [
      "163\n",
      "204.49970412254333\n",
      "1623381455.223902\n",
      "pages:500\n",
      "==============================================\n"
     ]
    },
    {
     "name": "stderr",
     "output_type": "stream",
     "text": [
      "\n",
      "\n",
      "====== WebDriver manager ======\n",
      "Current google-chrome version is 91.0.4472\n",
      "Get LATEST driver version for 91.0.4472\n",
      "Driver [/Users/kazu/.wdm/drivers/chromedriver/mac64/91.0.4472.19/chromedriver] found in cache\n"
     ]
    },
    {
     "name": "stdout",
     "output_type": "stream",
     "text": [
      "144\n",
      "163.0814700126648\n",
      "1623381618.305557\n",
      "pages:510\n",
      "==============================================\n",
      "pages:520\n",
      "==============================================\n"
     ]
    },
    {
     "name": "stderr",
     "output_type": "stream",
     "text": [
      "\n",
      "\n",
      "====== WebDriver manager ======\n",
      "Current google-chrome version is 91.0.4472\n",
      "Get LATEST driver version for 91.0.4472\n",
      "Driver [/Users/kazu/.wdm/drivers/chromedriver/mac64/91.0.4472.19/chromedriver] found in cache\n"
     ]
    },
    {
     "name": "stdout",
     "output_type": "stream",
     "text": [
      "237\n",
      "273.4809877872467\n",
      "1623381891.786703\n",
      "pages:530\n",
      "==============================================\n",
      "pages:540\n",
      "==============================================\n",
      "pages:550\n",
      "==============================================\n",
      "pages:560\n",
      "==============================================\n"
     ]
    },
    {
     "name": "stderr",
     "output_type": "stream",
     "text": [
      "\n",
      "\n",
      "====== WebDriver manager ======\n",
      "Current google-chrome version is 91.0.4472\n",
      "Get LATEST driver version for 91.0.4472\n"
     ]
    },
    {
     "name": "stdout",
     "output_type": "stream",
     "text": [
      "385\n",
      "434.33017587661743\n"
     ]
    },
    {
     "name": "stderr",
     "output_type": "stream",
     "text": [
      "Driver [/Users/kazu/.wdm/drivers/chromedriver/mac64/91.0.4472.19/chromedriver] found in cache\n"
     ]
    },
    {
     "name": "stdout",
     "output_type": "stream",
     "text": [
      "1623382326.117027\n",
      "pages:570\n",
      "==============================================\n"
     ]
    },
    {
     "name": "stderr",
     "output_type": "stream",
     "text": [
      "\n",
      "\n",
      "====== WebDriver manager ======\n",
      "Current google-chrome version is 91.0.4472\n",
      "Get LATEST driver version for 91.0.4472\n",
      "Driver [/Users/kazu/.wdm/drivers/chromedriver/mac64/91.0.4472.19/chromedriver] found in cache\n"
     ]
    },
    {
     "name": "stdout",
     "output_type": "stream",
     "text": [
      "117\n",
      "135.18261790275574\n",
      "1623382461.299712\n",
      "pages:580\n",
      "==============================================\n",
      "pages:590\n",
      "==============================================\n"
     ]
    },
    {
     "name": "stderr",
     "output_type": "stream",
     "text": [
      "\n",
      "\n",
      "====== WebDriver manager ======\n",
      "Current google-chrome version is 91.0.4472\n",
      "Get LATEST driver version for 91.0.4472\n",
      "Driver [/Users/kazu/.wdm/drivers/chromedriver/mac64/91.0.4472.19/chromedriver] found in cache\n"
     ]
    },
    {
     "name": "stdout",
     "output_type": "stream",
     "text": [
      "157\n",
      "176.08059120178223\n",
      "1623382637.380379\n",
      "pages:600\n",
      "==============================================\n",
      "120\n",
      "135.595458984375\n"
     ]
    }
   ],
   "source": [
    "for (url, filename) in zip(urls, filenames):\n",
    "# スクレイピングブロック\n",
    "    dataList = []\n",
    "    startTime = time.time()\n",
    "    # 一度ブラウザ起動\n",
    "    options = Options()\n",
    "    options.add_argument('--headless')\n",
    "    browser = webdriver.Chrome(ChromeDriverManager().install(), options=options)\n",
    "    browser.get(url)\n",
    "    print(startTime)\n",
    "    while True:\n",
    "        url = browser.current_url\n",
    "        try:\n",
    "            res = requests.get(url)\n",
    "            soup = BeautifulSoup(res.content, 'html.parser')\n",
    "            get_all_review(soup, dataList)\n",
    "            browser.find_element_by_link_text('次へ').click()\n",
    "            if count % 10 == 0:\n",
    "                print(\"pages:{0}\".format(count))\n",
    "                print('==============================================')\n",
    "            count += 1\n",
    "        except NoSuchElementException:\n",
    "            browser.quit()\n",
    "            break\n",
    "    \n",
    "# データの加工ブロック\n",
    "    reviews = []\n",
    "\n",
    "    for review in dataList:\n",
    "        reviewDict = {'title': review['title'], 'point':review['point'], 'tag':review['tag'], 'text':review['text']}\n",
    "        if '行った時期' in review['details']:  \n",
    "            reviewDict['行った時期'] = review['details']['行った時期']\n",
    "        if '混雑具合' in review['details']:\n",
    "            reviewDict['混雑具合'] = review['details']['混雑具合']\n",
    "        if '滞在時間' in review['details']:\n",
    "            reviewDict['滞在時間'] = review['details']['滞在時間']\n",
    "        if '人数' in review['details']:\n",
    "            reviewDict['人数'] = review['details']['人数']\n",
    "        if '投稿日' in review['details']:\n",
    "            reviewDict['投稿日'] = review['details']['投稿日']\n",
    "\n",
    "        reviews.append(reviewDict)\n",
    "#   レビュー数の確認\n",
    "    print(len(reviews))\n",
    "\n",
    "# csvに加工するブロック\n",
    "    df = pd.DataFrame(reviews)\n",
    "    #カラムの並び替え\n",
    "    df.reindex(columns=['postDay', 'point', ' when', 'congestion', 'tag', 'numberOfPeople', 'title', 'text'])\n",
    "    df.head().append(df.tail())\n",
    "    df.to_csv('../python_nlp_yamagata/{filename}.csv'.format(filename = filename))\n",
    "    elapsed_time = time.time() - startTime\n",
    "    print(elapsed_time)"
   ]
  },
  {
   "cell_type": "code",
   "execution_count": null,
   "metadata": {},
   "outputs": [],
   "source": [
    "# i = 0\n",
    "# # 山寺\n",
    "# # url = \"https://www.jalan.net/kankou/spt_guide000000152086/kuchikomi/\"\n",
    "# # 鶴岡市加茂水族館\n",
    "# # url = \"https://www.jalan.net/kankou/spt_06203cc3320040667/kuchikomi/\"\n",
    "\n",
    "\n",
    "# dataList = []\n",
    "# startTime = time.time()\n",
    "# print(startTime)\n",
    "# while True:\n",
    "#     url = browser.current_url\n",
    "#     try:\n",
    "#         t = time.time()\n",
    "#         res = requests.get(url)\n",
    "#         soup = BeautifulSoup(res.content, 'html.parser')\n",
    "#         get_all_review(soup, dataList)\n",
    "#         browser.find_element_by_link_text('次へ').click()\n",
    "#         iteratorTime = time.time() - t\n",
    "#         print(\"pages:{0}\\niteratorTime:{1}\".format(i, iteratorTime))\n",
    "#         print('==============================================')\n",
    "#         i += 1\n",
    "#     except NoSuchElementException:\n",
    "#         browser.quit()\n",
    "#         break\n",
    "# elapsed_time = time.time() - startTime\n",
    "# print(elapsed_time)"
   ]
  }
 ],
 "metadata": {
  "kernelspec": {
   "display_name": "Python 3",
   "language": "python",
   "name": "python3"
  },
  "language_info": {
   "codemirror_mode": {
    "name": "ipython",
    "version": 3
   },
   "file_extension": ".py",
   "mimetype": "text/x-python",
   "name": "python",
   "nbconvert_exporter": "python",
   "pygments_lexer": "ipython3",
   "version": "3.8.5"
  }
 },
 "nbformat": 4,
 "nbformat_minor": 4
}